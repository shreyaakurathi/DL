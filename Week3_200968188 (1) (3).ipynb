{
  "nbformat": 4,
  "nbformat_minor": 0,
  "metadata": {
    "colab": {
      "name": "Week3_200968188.ipynb",
      "provenance": [],
      "collapsed_sections": []
    },
    "kernelspec": {
      "name": "python3",
      "display_name": "Python 3"
    },
    "language_info": {
      "name": "python"
    },
    "accelerator": "GPU",
    "gpuClass": "standard"
  },
  "cells": [
    {
      "cell_type": "markdown",
      "source": [
        "**Shreya Akurathi**\n",
        "**200968188**\n",
        "**Week 3**"
      ],
      "metadata": {
        "id": "wnZ2a15u3peb"
      }
    },
    {
      "cell_type": "markdown",
      "source": [
        "# ***Train, Test and plot the performance curvesfor the following architectures over the MNIST datasets well as the CIFAR-10 dataset.***"
      ],
      "metadata": {
        "id": "pR4U83tU35pr"
      }
    },
    {
      "cell_type": "code",
      "source": [
        "#IMPORT NECCESARY LIBS\n",
        "import tensorflow as tf\n",
        "from tensorflow import keras \n",
        "import numpy as np\n",
        "import pandas as pd\n",
        "import matplotlib.pyplot as plt\n",
        "from keras import datasets, layers, models, losses\n",
        "import sys\n",
        "from keras.models import Sequential\n",
        "from keras.layers import Conv2D\n",
        "from keras.layers import MaxPooling2D\n",
        "from keras.layers import Dense\n",
        "from keras.layers import Flatten\n",
        "from keras.layers import Dropout\n",
        "from keras import optimizers\n",
        "from tensorflow.keras.optimizers import SGD\n",
        "\n"
      ],
      "metadata": {
        "id": "sxO1LBkB6Z3Z"
      },
      "execution_count": 9,
      "outputs": []
    },
    {
      "cell_type": "code",
      "execution_count": 3,
      "metadata": {
        "id": "1qdMcGlXGyyF"
      },
      "outputs": [],
      "source": [
        "# #import essential libraries\n",
        "# import tensorflow as tf\n",
        "# import numpy as np \n",
        "# import matplotlib.pyplot as plt\n",
        "# import pandas as pd\n",
        "# import seaborn as sb\n",
        "# from sklearn.metrics import confusion_matrix"
      ]
    },
    {
      "cell_type": "markdown",
      "source": [
        "# ***1. Design a CNN with:***\n",
        "a) One Convolution layer which uses 32 kernels each of size 5x5, stride = 1 and, padding =0\n",
        "b)One Pooling layerwhich uses MAXPOOLINGwith stride =2.\n",
        "c) One hidden layer having number of neurons = 100***"
      ],
      "metadata": {
        "id": "umZpQHO85lrk"
      }
    },
    {
      "cell_type": "markdown",
      "source": [
        "# **MNIST**"
      ],
      "metadata": {
        "id": "KvZXjJ6f6StD"
      }
    },
    {
      "cell_type": "code",
      "source": [
        "mnist=keras.datasets.mnist"
      ],
      "metadata": {
        "id": "i6pFrREU3-rI"
      },
      "execution_count": 4,
      "outputs": []
    },
    {
      "cell_type": "code",
      "source": [
        "(train_images,train_labels),(test_images,test_labels)=mnist.load_data()"
      ],
      "metadata": {
        "id": "-eUKoBlX6tL5",
        "colab": {
          "base_uri": "https://localhost:8080/"
        },
        "outputId": "115513cd-42b5-4150-8f5a-5e35651dfbfb"
      },
      "execution_count": 5,
      "outputs": [
        {
          "output_type": "stream",
          "name": "stdout",
          "text": [
            "Downloading data from https://storage.googleapis.com/tensorflow/tf-keras-datasets/mnist.npz\n",
            "11493376/11490434 [==============================] - 0s 0us/step\n",
            "11501568/11490434 [==============================] - 0s 0us/step\n"
          ]
        }
      ]
    },
    {
      "cell_type": "code",
      "source": [
        "#Normalisation\n",
        "train_images=train_images/255.0\n",
        "test_images=test_images/255.0"
      ],
      "metadata": {
        "id": "6NSVaif06vIS"
      },
      "execution_count": 6,
      "outputs": []
    },
    {
      "cell_type": "code",
      "source": [
        "train_images[0].shape"
      ],
      "metadata": {
        "colab": {
          "base_uri": "https://localhost:8080/"
        },
        "id": "TN6ow1Mb60Lh",
        "outputId": "296119e6-13ae-4542-c9b6-68f3cd84fe53"
      },
      "execution_count": 7,
      "outputs": [
        {
          "output_type": "execute_result",
          "data": {
            "text/plain": [
              "(28, 28)"
            ]
          },
          "metadata": {},
          "execution_count": 7
        }
      ]
    },
    {
      "cell_type": "code",
      "source": [
        "train_images=train_images.reshape(len(train_images),28,28,1)\n",
        "\n",
        "test_images=test_images.reshape(len(test_images),28,28,1)"
      ],
      "metadata": {
        "id": "9RSGkVOb6_Gw"
      },
      "execution_count": 8,
      "outputs": []
    },
    {
      "cell_type": "code",
      "source": [
        "#Build model\n",
        "from keras.models import Sequential\n",
        "from keras.layers import Dense, Conv2D, Flatten"
      ],
      "metadata": {
        "id": "VvIC0ftX8eEC"
      },
      "execution_count": 3,
      "outputs": []
    },
    {
      "cell_type": "code",
      "source": [
        "\n",
        "model = keras.Sequential()\n",
        "\n",
        "model.add(keras.Input(shape=(28,28,1)))\n",
        "model.add(keras.layers.Conv2D(32,kernel_size=(5,5), activation=\"relu\", padding = \"valid\"))\n",
        "model.add(keras.layers.MaxPooling2D(pool_size=(2,2), strides=2))\n",
        "model.add(keras.layers.Flatten())\n",
        "model.add(keras.layers.Dense(100, activation='relu'))\n",
        "model.add(keras.layers.Dense(10, activation='softmax'))\n"
      ],
      "metadata": {
        "id": "jt9svgyo8-rw"
      },
      "execution_count": 10,
      "outputs": []
    },
    {
      "cell_type": "code",
      "source": [
        "model.compile(optimizer='adam', loss='sparse_categorical_crossentropy', metrics=['accuracy'])"
      ],
      "metadata": {
        "id": "WbR8vqC3C8Du"
      },
      "execution_count": 11,
      "outputs": []
    },
    {
      "cell_type": "code",
      "source": [
        "model.summary()"
      ],
      "metadata": {
        "colab": {
          "base_uri": "https://localhost:8080/"
        },
        "id": "Ehmc4uS2Bmd8",
        "outputId": "008a589c-1dbb-40cb-9649-f8a41c48d9fa"
      },
      "execution_count": 12,
      "outputs": [
        {
          "output_type": "stream",
          "name": "stdout",
          "text": [
            "Model: \"sequential\"\n",
            "_________________________________________________________________\n",
            " Layer (type)                Output Shape              Param #   \n",
            "=================================================================\n",
            " conv2d (Conv2D)             (None, 24, 24, 32)        832       \n",
            "                                                                 \n",
            " max_pooling2d (MaxPooling2D  (None, 12, 12, 32)       0         \n",
            " )                                                               \n",
            "                                                                 \n",
            " flatten (Flatten)           (None, 4608)              0         \n",
            "                                                                 \n",
            " dense (Dense)               (None, 100)               460900    \n",
            "                                                                 \n",
            " dense_1 (Dense)             (None, 10)                1010      \n",
            "                                                                 \n",
            "=================================================================\n",
            "Total params: 462,742\n",
            "Trainable params: 462,742\n",
            "Non-trainable params: 0\n",
            "_________________________________________________________________\n"
          ]
        }
      ]
    },
    {
      "cell_type": "code",
      "source": [
        "##Early Stopping\n",
        "\n",
        "early_stopping = tf.keras.callbacks.EarlyStopping(\n",
        "\n",
        "    monitor=\"val_loss\",\n",
        "\n",
        "    min_delta=0.01,\n",
        "\n",
        "    patience=20,\n",
        "\n",
        "    verbose=1,\n",
        "\n",
        "    mode=\"auto\",\n",
        "\n",
        "    baseline=None,\n",
        "\n",
        "    restore_best_weights=False,\n",
        "\n",
        ")"
      ],
      "metadata": {
        "id": "uvWIujNMCy3u"
      },
      "execution_count": 13,
      "outputs": []
    },
    {
      "cell_type": "code",
      "source": [
        " hist = model.fit(train_images,train_labels,batch_size = 32, callbacks= early_stopping, epochs = 100, validation_split = 0.1, verbose= 1)\n"
      ],
      "metadata": {
        "colab": {
          "base_uri": "https://localhost:8080/"
        },
        "id": "JEGsthENDSVW",
        "outputId": "474d344b-2560-4c80-b7e6-18d3896f2810"
      },
      "execution_count": 14,
      "outputs": [
        {
          "output_type": "stream",
          "name": "stdout",
          "text": [
            "Epoch 1/100\n",
            "1688/1688 [==============================] - 17s 3ms/step - loss: 0.1512 - accuracy: 0.9548 - val_loss: 0.0531 - val_accuracy: 0.9865\n",
            "Epoch 2/100\n",
            "1688/1688 [==============================] - 5s 3ms/step - loss: 0.0499 - accuracy: 0.9841 - val_loss: 0.0568 - val_accuracy: 0.9873\n",
            "Epoch 3/100\n",
            "1688/1688 [==============================] - 5s 3ms/step - loss: 0.0335 - accuracy: 0.9893 - val_loss: 0.0408 - val_accuracy: 0.9882\n",
            "Epoch 4/100\n",
            "1688/1688 [==============================] - 5s 3ms/step - loss: 0.0243 - accuracy: 0.9920 - val_loss: 0.0499 - val_accuracy: 0.9885\n",
            "Epoch 5/100\n",
            "1688/1688 [==============================] - 5s 3ms/step - loss: 0.0176 - accuracy: 0.9941 - val_loss: 0.0458 - val_accuracy: 0.9888\n",
            "Epoch 6/100\n",
            "1688/1688 [==============================] - 5s 3ms/step - loss: 0.0122 - accuracy: 0.9961 - val_loss: 0.0424 - val_accuracy: 0.9903\n",
            "Epoch 7/100\n",
            "1688/1688 [==============================] - 5s 3ms/step - loss: 0.0100 - accuracy: 0.9966 - val_loss: 0.0485 - val_accuracy: 0.9887\n",
            "Epoch 8/100\n",
            "1688/1688 [==============================] - 5s 3ms/step - loss: 0.0078 - accuracy: 0.9971 - val_loss: 0.0470 - val_accuracy: 0.9897\n",
            "Epoch 9/100\n",
            "1688/1688 [==============================] - 6s 3ms/step - loss: 0.0059 - accuracy: 0.9978 - val_loss: 0.0541 - val_accuracy: 0.9880\n",
            "Epoch 10/100\n",
            "1688/1688 [==============================] - 5s 3ms/step - loss: 0.0059 - accuracy: 0.9980 - val_loss: 0.0707 - val_accuracy: 0.9848\n",
            "Epoch 11/100\n",
            "1688/1688 [==============================] - 6s 3ms/step - loss: 0.0043 - accuracy: 0.9984 - val_loss: 0.0507 - val_accuracy: 0.9913\n",
            "Epoch 12/100\n",
            "1688/1688 [==============================] - 5s 3ms/step - loss: 0.0047 - accuracy: 0.9985 - val_loss: 0.0559 - val_accuracy: 0.9895\n",
            "Epoch 13/100\n",
            "1688/1688 [==============================] - 5s 3ms/step - loss: 0.0041 - accuracy: 0.9986 - val_loss: 0.0732 - val_accuracy: 0.9873\n",
            "Epoch 14/100\n",
            "1688/1688 [==============================] - 5s 3ms/step - loss: 0.0037 - accuracy: 0.9988 - val_loss: 0.0601 - val_accuracy: 0.9900\n",
            "Epoch 15/100\n",
            "1688/1688 [==============================] - 5s 3ms/step - loss: 0.0040 - accuracy: 0.9986 - val_loss: 0.0647 - val_accuracy: 0.9893\n",
            "Epoch 16/100\n",
            "1688/1688 [==============================] - 5s 3ms/step - loss: 0.0038 - accuracy: 0.9987 - val_loss: 0.0557 - val_accuracy: 0.9912\n",
            "Epoch 17/100\n",
            "1688/1688 [==============================] - 5s 3ms/step - loss: 0.0035 - accuracy: 0.9990 - val_loss: 0.0632 - val_accuracy: 0.9905\n",
            "Epoch 18/100\n",
            "1688/1688 [==============================] - 5s 3ms/step - loss: 0.0034 - accuracy: 0.9989 - val_loss: 0.0819 - val_accuracy: 0.9870\n",
            "Epoch 19/100\n",
            "1688/1688 [==============================] - 5s 3ms/step - loss: 0.0024 - accuracy: 0.9992 - val_loss: 0.0592 - val_accuracy: 0.9910\n",
            "Epoch 20/100\n",
            "1688/1688 [==============================] - 5s 3ms/step - loss: 0.0030 - accuracy: 0.9990 - val_loss: 0.0773 - val_accuracy: 0.9890\n",
            "Epoch 21/100\n",
            "1688/1688 [==============================] - 5s 3ms/step - loss: 0.0017 - accuracy: 0.9994 - val_loss: 0.0762 - val_accuracy: 0.9903\n",
            "Epoch 22/100\n",
            "1688/1688 [==============================] - 5s 3ms/step - loss: 0.0031 - accuracy: 0.9990 - val_loss: 0.0780 - val_accuracy: 0.9890\n",
            "Epoch 23/100\n",
            "1688/1688 [==============================] - 5s 3ms/step - loss: 0.0024 - accuracy: 0.9992 - val_loss: 0.0786 - val_accuracy: 0.9893\n",
            "Epoch 23: early stopping\n"
          ]
        }
      ]
    },
    {
      "cell_type": "code",
      "source": [
        ""
      ],
      "metadata": {
        "id": "IXSslHhEFc_u"
      },
      "execution_count": 14,
      "outputs": []
    },
    {
      "cell_type": "code",
      "source": [
        "history1_df = pd.DataFrame(hist.history)\n",
        "\n",
        "history1_df.loc[0:, ['loss', 'val_loss']].plot()\n",
        "history1_df.loc[0:, ['accuracy', 'val_accuracy']].plot()\n",
        "print((\"Best Validation Loss: {:0.4f}\" +\\\n",
        "      \"\\nBest Validation Accuracy: {:0.4f}\")\\\n",
        "      .format(history1_df['val_loss'].min(), \n",
        "              history1_df['val_accuracy'].max()))"
      ],
      "metadata": {
        "colab": {
          "base_uri": "https://localhost:8080/",
          "height": 548
        },
        "id": "nf-r0M7IDTm1",
        "outputId": "d1b1a88d-7b36-4f18-c8b7-43836c1f04b0"
      },
      "execution_count": 15,
      "outputs": [
        {
          "output_type": "stream",
          "name": "stdout",
          "text": [
            "Best Validation Loss: 0.0408\n",
            "Best Validation Accuracy: 0.9913\n"
          ]
        },
        {
          "output_type": "display_data",
          "data": {
            "text/plain": [
              "<Figure size 432x288 with 1 Axes>"
            ],
            "image/png": "[encoded data removed]"
          },
          "metadata": {
            "needs_background": "light"
          }
        },
        {
          "output_type": "display_data",
          "data": {
            "text/plain": [
              "<Figure size 432x288 with 1 Axes>"
            ],
            "image/png": "[encoded data removed]"
          },
          "metadata": {
            "needs_background": "light"
          }
        }
      ]
    },
    {
      "cell_type": "code",
      "source": [
        "test_loss, test_accuracy = model.evaluate(test_images, test_labels)\n",
        "print(\"\\n Accuracy of model:\",test_accuracy)"
      ],
      "metadata": {
        "colab": {
          "base_uri": "https://localhost:8080/"
        },
        "id": "4AGUOzp6IGV8",
        "outputId": "b18cb61f-7bfd-43d7-d210-b786089bdc0c"
      },
      "execution_count": 16,
      "outputs": [
        {
          "output_type": "stream",
          "name": "stdout",
          "text": [
            "313/313 [==============================] - 1s 2ms/step - loss: 0.0781 - accuracy: 0.9876\n",
            "\n",
            " Accuracy of model: 0.9876000285148621\n"
          ]
        }
      ]
    },
    {
      "cell_type": "markdown",
      "source": [
        "# **CIFAR10**"
      ],
      "metadata": {
        "id": "lYOyqCKCGQJt"
      }
    },
    {
      "cell_type": "code",
      "source": [
        "cf=keras.datasets.cifar10"
      ],
      "metadata": {
        "id": "Q8uqudqYGUul"
      },
      "execution_count": 17,
      "outputs": []
    },
    {
      "cell_type": "code",
      "source": [
        "(train_images,train_labels),(test_images,test_labels)=cf.load_data()"
      ],
      "metadata": {
        "id": "CjwVryefIamb",
        "colab": {
          "base_uri": "https://localhost:8080/"
        },
        "outputId": "e692be53-b143-461a-977e-ffcaf9e84f77"
      },
      "execution_count": 18,
      "outputs": [
        {
          "output_type": "stream",
          "name": "stdout",
          "text": [
            "Downloading data from https://www.cs.toronto.edu/~kriz/cifar-10-python.tar.gz\n",
            "170500096/170498071 [==============================] - 13s 0us/step\n",
            "170508288/170498071 [==============================] - 13s 0us/step\n"
          ]
        }
      ]
    },
    {
      "cell_type": "code",
      "source": [
        "for i in range(10):\n",
        "   plt.imshow(train_images[i],cmap=\"gray\") \n",
        "   plt.show()"
      ],
      "metadata": {
        "colab": {
          "base_uri": "https://localhost:8080/",
          "height": 1000
        },
        "id": "SxcHPul6IexT",
        "outputId": "0538bb08-e54d-414a-ba90-7c6af2ee2f93"
      },
      "execution_count": 19,
      "outputs": [
        {
          "output_type": "display_data",
          "data": {
            "text/plain": [
              "<Figure size 432x288 with 1 Axes>"
            ],
            "image/png": "[encoded data removed]"
          },
          "metadata": {
            "needs_background": "light"
          }
        },
        {
          "output_type": "display_data",
          "data": {
            "text/plain": [
              "<Figure size 432x288 with 1 Axes>"
            ],
            "image/png": "[encoded data removed]"
          },
          "metadata": {
            "needs_background": "light"
          }
        },
        {
          "output_type": "display_data",
          "data": {
            "text/plain": [
              "<Figure size 432x288 with 1 Axes>"
            ],
            "image/png": "[encoded data removed]"
          },
          "metadata": {
            "needs_background": "light"
          }
        },
        {
          "output_type": "display_data",
          "data": {
            "text/plain": [
              "<Figure size 432x288 with 1 Axes>"
            ],
            "image/png": "[encoded data removed]"
          },
          "metadata": {
            "needs_background": "light"
          }
        },
        {
          "output_type": "display_data",
          "data": {
            "text/plain": [
              "<Figure size 432x288 with 1 Axes>"
            ],
            "image/png": "[encoded data removed]"
          },
          "metadata": {
            "needs_background": "light"
          }
        },
        {
          "output_type": "display_data",
          "data": {
            "text/plain": [
              "<Figure size 432x288 with 1 Axes>"
            ],
            "image/png": "[encoded data removed]"
          },
          "metadata": {
            "needs_background": "light"
          }
        },
        {
          "output_type": "display_data",
          "data": {
            "text/plain": [
              "<Figure size 432x288 with 1 Axes>"
            ],
            "image/png": "[encoded data removed]"
          },
          "metadata": {
            "needs_background": "light"
          }
        },
        {
          "output_type": "display_data",
          "data": {
            "text/plain": [
              "<Figure size 432x288 with 1 Axes>"
            ],
            "image/png": "[encoded data removed]"
          },
          "metadata": {
            "needs_background": "light"
          }
        },
        {
          "output_type": "display_data",
          "data": {
            "text/plain": [
              "<Figure size 432x288 with 1 Axes>"
            ],
            "image/png": "[encoded data removed]"
          },
          "metadata": {
            "needs_background": "light"
          }
        },
        {
          "output_type": "display_data",
          "data": {
            "text/plain": [
              "<Figure size 432x288 with 1 Axes>"
            ],
            "image/png": "[encoded data removed]"
          },
          "metadata": {
            "needs_background": "light"
          }
        }
      ]
    },
    {
      "cell_type": "code",
      "source": [
        "#Normalisation\n",
        "\n",
        "train_images= train_images/255\n",
        "test_images= test_images/255"
      ],
      "metadata": {
        "id": "gHL-ZdoWKBzc"
      },
      "execution_count": 20,
      "outputs": []
    },
    {
      "cell_type": "code",
      "source": [
        "train_images[0].shape"
      ],
      "metadata": {
        "colab": {
          "base_uri": "https://localhost:8080/"
        },
        "id": "pmq4SIPhLN7r",
        "outputId": "ccf9ed79-3278-4ba5-e684-6850688c8273"
      },
      "execution_count": 21,
      "outputs": [
        {
          "output_type": "execute_result",
          "data": {
            "text/plain": [
              "(32, 32, 3)"
            ]
          },
          "metadata": {},
          "execution_count": 21
        }
      ]
    },
    {
      "cell_type": "code",
      "source": [
        "#Build model\n",
        "from keras.models import Sequential\n",
        "from keras.layers import Dense, Conv2D, Flatten"
      ],
      "metadata": {
        "id": "ARG6XTuYLUYj"
      },
      "execution_count": 22,
      "outputs": []
    },
    {
      "cell_type": "code",
      "source": [
        "\n",
        "model1 = keras.Sequential()\n",
        "\n",
        "model1.add(keras.Input(shape=(32,32,3)))\n",
        "model1.add(keras.layers.Conv2D(32,kernel_size=(5,5), activation=\"relu\", padding = \"valid\"))\n",
        "model1.add(keras.layers.MaxPooling2D(pool_size=(2,2), strides=2))\n",
        "model1.add(keras.layers.Flatten())\n",
        "model1.add(keras.layers.Dense(100, activation='relu'))\n",
        "model1.add(keras.layers.Dense(10, activation='softmax'))"
      ],
      "metadata": {
        "id": "52Hf3X2PLjZq"
      },
      "execution_count": 23,
      "outputs": []
    },
    {
      "cell_type": "code",
      "source": [
        "model1.compile(optimizer='adam', loss='sparse_categorical_crossentropy', metrics=['accuracy'])"
      ],
      "metadata": {
        "id": "a-3tmH7PLpea"
      },
      "execution_count": 24,
      "outputs": []
    },
    {
      "cell_type": "code",
      "source": [
        "model1.summary()"
      ],
      "metadata": {
        "colab": {
          "base_uri": "https://localhost:8080/"
        },
        "id": "GANOKM3OL2lS",
        "outputId": "f0dd27a6-8cbc-4b9c-b590-5f1af57c5888"
      },
      "execution_count": 25,
      "outputs": [
        {
          "output_type": "stream",
          "name": "stdout",
          "text": [
            "Model: \"sequential_1\"\n",
            "_________________________________________________________________\n",
            " Layer (type)                Output Shape              Param #   \n",
            "=================================================================\n",
            " conv2d_1 (Conv2D)           (None, 28, 28, 32)        2432      \n",
            "                                                                 \n",
            " max_pooling2d_1 (MaxPooling  (None, 14, 14, 32)       0         \n",
            " 2D)                                                             \n",
            "                                                                 \n",
            " flatten_1 (Flatten)         (None, 6272)              0         \n",
            "                                                                 \n",
            " dense_2 (Dense)             (None, 100)               627300    \n",
            "                                                                 \n",
            " dense_3 (Dense)             (None, 10)                1010      \n",
            "                                                                 \n",
            "=================================================================\n",
            "Total params: 630,742\n",
            "Trainable params: 630,742\n",
            "Non-trainable params: 0\n",
            "_________________________________________________________________\n"
          ]
        }
      ]
    },
    {
      "cell_type": "code",
      "source": [
        "##Early Stopping\n",
        "\n",
        "early_stopping = tf.keras.callbacks.EarlyStopping(\n",
        "\n",
        "    monitor=\"val_loss\",\n",
        "\n",
        "    min_delta=0.01,\n",
        "\n",
        "    patience=20,\n",
        "\n",
        "    verbose=1,\n",
        "\n",
        "    mode=\"auto\",\n",
        "\n",
        "    baseline=None,\n",
        "\n",
        "    restore_best_weights=False,\n",
        "\n",
        ")"
      ],
      "metadata": {
        "id": "I7iK0JNiL5Va"
      },
      "execution_count": 26,
      "outputs": []
    },
    {
      "cell_type": "code",
      "source": [
        "hist1 = model1.fit(train_images,train_labels,batch_size = 32, callbacks= early_stopping, epochs = 100, validation_split = 0.1, verbose= 1)"
      ],
      "metadata": {
        "colab": {
          "base_uri": "https://localhost:8080/"
        },
        "id": "16KbhSQLMAPS",
        "outputId": "f97d3db6-ae66-440c-9145-f13fc91192fd"
      },
      "execution_count": 27,
      "outputs": [
        {
          "output_type": "stream",
          "name": "stdout",
          "text": [
            "Epoch 1/100\n",
            "1407/1407 [==============================] - 5s 4ms/step - loss: 1.5289 - accuracy: 0.4512 - val_loss: 1.2995 - val_accuracy: 0.5370\n",
            "Epoch 2/100\n",
            "1407/1407 [==============================] - 5s 3ms/step - loss: 1.2135 - accuracy: 0.5710 - val_loss: 1.1876 - val_accuracy: 0.5816\n",
            "Epoch 3/100\n",
            "1407/1407 [==============================] - 5s 4ms/step - loss: 1.0866 - accuracy: 0.6211 - val_loss: 1.0961 - val_accuracy: 0.6234\n",
            "Epoch 4/100\n",
            "1407/1407 [==============================] - 5s 3ms/step - loss: 0.9969 - accuracy: 0.6500 - val_loss: 1.1024 - val_accuracy: 0.6230\n",
            "Epoch 5/100\n",
            "1407/1407 [==============================] - 5s 4ms/step - loss: 0.9238 - accuracy: 0.6753 - val_loss: 1.0408 - val_accuracy: 0.6390\n",
            "Epoch 6/100\n",
            "1407/1407 [==============================] - 5s 4ms/step - loss: 0.8693 - accuracy: 0.6961 - val_loss: 1.0408 - val_accuracy: 0.6480\n",
            "Epoch 7/100\n",
            "1407/1407 [==============================] - 5s 4ms/step - loss: 0.8146 - accuracy: 0.7146 - val_loss: 1.0217 - val_accuracy: 0.6554\n",
            "Epoch 8/100\n",
            "1407/1407 [==============================] - 5s 3ms/step - loss: 0.7611 - accuracy: 0.7356 - val_loss: 1.0958 - val_accuracy: 0.6516\n",
            "Epoch 9/100\n",
            "1407/1407 [==============================] - 5s 3ms/step - loss: 0.7130 - accuracy: 0.7515 - val_loss: 1.0675 - val_accuracy: 0.6566\n",
            "Epoch 10/100\n",
            "1407/1407 [==============================] - 5s 3ms/step - loss: 0.6653 - accuracy: 0.7661 - val_loss: 1.1021 - val_accuracy: 0.6502\n",
            "Epoch 11/100\n",
            "1407/1407 [==============================] - 5s 3ms/step - loss: 0.6275 - accuracy: 0.7798 - val_loss: 1.1596 - val_accuracy: 0.6422\n",
            "Epoch 12/100\n",
            "1407/1407 [==============================] - 5s 3ms/step - loss: 0.5753 - accuracy: 0.7975 - val_loss: 1.1870 - val_accuracy: 0.6404\n",
            "Epoch 13/100\n",
            "1407/1407 [==============================] - 5s 3ms/step - loss: 0.5373 - accuracy: 0.8108 - val_loss: 1.2543 - val_accuracy: 0.6386\n",
            "Epoch 14/100\n",
            "1407/1407 [==============================] - 5s 3ms/step - loss: 0.4829 - accuracy: 0.8312 - val_loss: 1.2915 - val_accuracy: 0.6420\n",
            "Epoch 15/100\n",
            "1407/1407 [==============================] - 5s 3ms/step - loss: 0.4461 - accuracy: 0.8441 - val_loss: 1.3794 - val_accuracy: 0.6460\n",
            "Epoch 16/100\n",
            "1407/1407 [==============================] - 5s 4ms/step - loss: 0.4088 - accuracy: 0.8562 - val_loss: 1.3967 - val_accuracy: 0.6464\n",
            "Epoch 17/100\n",
            "1407/1407 [==============================] - 5s 3ms/step - loss: 0.3686 - accuracy: 0.8717 - val_loss: 1.4793 - val_accuracy: 0.6438\n",
            "Epoch 18/100\n",
            "1407/1407 [==============================] - 5s 4ms/step - loss: 0.3342 - accuracy: 0.8834 - val_loss: 1.5975 - val_accuracy: 0.6306\n",
            "Epoch 19/100\n",
            "1407/1407 [==============================] - 5s 3ms/step - loss: 0.3056 - accuracy: 0.8933 - val_loss: 1.6383 - val_accuracy: 0.6352\n",
            "Epoch 20/100\n",
            "1407/1407 [==============================] - 5s 3ms/step - loss: 0.2747 - accuracy: 0.9053 - val_loss: 1.7830 - val_accuracy: 0.6314\n",
            "Epoch 21/100\n",
            "1407/1407 [==============================] - 5s 3ms/step - loss: 0.2522 - accuracy: 0.9128 - val_loss: 1.8750 - val_accuracy: 0.6216\n",
            "Epoch 22/100\n",
            "1407/1407 [==============================] - 5s 3ms/step - loss: 0.2308 - accuracy: 0.9198 - val_loss: 1.9579 - val_accuracy: 0.6270\n",
            "Epoch 23/100\n",
            "1407/1407 [==============================] - 5s 4ms/step - loss: 0.2029 - accuracy: 0.9289 - val_loss: 2.0469 - val_accuracy: 0.6238\n",
            "Epoch 24/100\n",
            "1407/1407 [==============================] - 5s 3ms/step - loss: 0.1874 - accuracy: 0.9347 - val_loss: 2.1866 - val_accuracy: 0.6206\n",
            "Epoch 25/100\n",
            "1407/1407 [==============================] - 5s 3ms/step - loss: 0.1740 - accuracy: 0.9402 - val_loss: 2.3252 - val_accuracy: 0.6084\n",
            "Epoch 26/100\n",
            "1407/1407 [==============================] - 5s 3ms/step - loss: 0.1614 - accuracy: 0.9448 - val_loss: 2.3829 - val_accuracy: 0.6186\n",
            "Epoch 27/100\n",
            "1407/1407 [==============================] - 5s 4ms/step - loss: 0.1350 - accuracy: 0.9557 - val_loss: 2.4983 - val_accuracy: 0.6180\n",
            "Epoch 27: early stopping\n"
          ]
        }
      ]
    },
    {
      "cell_type": "code",
      "source": [
        "history2_df = pd.DataFrame(hist1.history)\n",
        "\n",
        "history2_df.loc[0:, ['loss', 'val_loss']].plot()\n",
        "history2_df.loc[0:, ['accuracy', 'val_accuracy']].plot()\n",
        "print((\"Best Validation Loss: {:0.4f}\" +\\\n",
        "      \"\\nBest Validation Accuracy: {:0.4f}\")\\\n",
        "      .format(history2_df['val_loss'].min(), \n",
        "              history2_df['val_accuracy'].max()))"
      ],
      "metadata": {
        "colab": {
          "base_uri": "https://localhost:8080/",
          "height": 548
        },
        "id": "NtS3ABlJME-q",
        "outputId": "d1096897-9e83-493d-c37e-583f435aa21b"
      },
      "execution_count": 28,
      "outputs": [
        {
          "output_type": "stream",
          "name": "stdout",
          "text": [
            "Best Validation Loss: 1.0217\n",
            "Best Validation Accuracy: 0.6566\n"
          ]
        },
        {
          "output_type": "display_data",
          "data": {
            "text/plain": [
              "<Figure size 432x288 with 1 Axes>"
            ],
            "image/png": "[encoded data removed]"
          },
          "metadata": {
            "needs_background": "light"
          }
        },
        {
          "output_type": "display_data",
          "data": {
            "text/plain": [
              "<Figure size 432x288 with 1 Axes>"
            ],
            "image/png": "[encoded data removed]"
          },
          "metadata": {
            "needs_background": "light"
          }
        }
      ]
    },
    {
      "cell_type": "code",
      "source": [
        "test_loss, test_accuracy = model1.evaluate(test_images, test_labels)\n",
        "print(\"\\n Accuracy of model:\",test_accuracy)"
      ],
      "metadata": {
        "colab": {
          "base_uri": "https://localhost:8080/"
        },
        "id": "Wuu_EdhiMK4i",
        "outputId": "13448665-25b0-47db-e88a-d5ea6a57852a"
      },
      "execution_count": 29,
      "outputs": [
        {
          "output_type": "stream",
          "name": "stdout",
          "text": [
            "313/313 [==============================] - 1s 3ms/step - loss: 2.6770 - accuracy: 0.6042\n",
            "\n",
            " Accuracy of model: 0.604200005531311\n"
          ]
        }
      ]
    },
    {
      "cell_type": "markdown",
      "source": [
        "# ***2. Design a CNN with:a) Two back-to-backConvolution layerswhich uses 32 kernels each of size 3x3, stride = 1 and, padding =0b)One Pooling layerwhich uses MAXPOOLINGwith stride =2.c) One hidden layer having number of neurons = 100***"
      ],
      "metadata": {
        "id": "aLq81D3kM3FR"
      }
    },
    {
      "cell_type": "markdown",
      "source": [
        "# **MNIST**"
      ],
      "metadata": {
        "id": "CmbCfhpyNHzJ"
      }
    },
    {
      "cell_type": "code",
      "source": [
        "mnist=keras.datasets.mnist"
      ],
      "metadata": {
        "id": "9ceP9Pe3NUez"
      },
      "execution_count": 30,
      "outputs": []
    },
    {
      "cell_type": "code",
      "source": [
        "(train_images,train_labels),(test_images,test_labels)=mnist.load_data()"
      ],
      "metadata": {
        "id": "cu1wxW00NaI-"
      },
      "execution_count": 31,
      "outputs": []
    },
    {
      "cell_type": "code",
      "source": [
        "#Normalisation\n",
        "train_images=train_images/255.0\n",
        "test_images=test_images/255.0"
      ],
      "metadata": {
        "id": "P4F_BGdaNd4-"
      },
      "execution_count": 32,
      "outputs": []
    },
    {
      "cell_type": "code",
      "source": [
        "train_images[0].shape"
      ],
      "metadata": {
        "colab": {
          "base_uri": "https://localhost:8080/"
        },
        "id": "srxIqknfNemi",
        "outputId": "ae747e1b-7aa5-469b-91e7-04eea81b7cf7"
      },
      "execution_count": 33,
      "outputs": [
        {
          "output_type": "execute_result",
          "data": {
            "text/plain": [
              "(28, 28)"
            ]
          },
          "metadata": {},
          "execution_count": 33
        }
      ]
    },
    {
      "cell_type": "code",
      "source": [
        "train_images=train_images.reshape(len(train_images),28,28,1)\n",
        "\n",
        "test_images=test_images.reshape(len(test_images),28,28,1)"
      ],
      "metadata": {
        "id": "O9AGoKqhNjaR"
      },
      "execution_count": 34,
      "outputs": []
    },
    {
      "cell_type": "code",
      "source": [
        "#Build model\n",
        "from keras.models import Sequential\n",
        "from keras.layers import Dense, Conv2D, Flatten"
      ],
      "metadata": {
        "id": "8UJA6TQYNnu5"
      },
      "execution_count": 35,
      "outputs": []
    },
    {
      "cell_type": "code",
      "source": [
        "\n",
        "model2 = keras.Sequential()\n",
        "\n",
        "model2.add(keras.Input(shape=(28,28,1)))\n",
        "model2.add(keras.layers.Conv2D(32,kernel_size=(3,3), activation=\"relu\", padding = \"valid\"))\n",
        "model2.add(keras.layers.Conv2D(32,kernel_size=(3,3), activation=\"relu\", padding = \"valid\"))\n",
        "model2.add(keras.layers.MaxPooling2D(pool_size=(2,2), strides=2))\n",
        "model2.add(keras.layers.Flatten())\n",
        "model2.add(keras.layers.Dense(100, activation='relu'))\n",
        "model2.add(keras.layers.Dense(10, activation='softmax'))\n"
      ],
      "metadata": {
        "id": "NVtjGiEMNr4A"
      },
      "execution_count": 36,
      "outputs": []
    },
    {
      "cell_type": "code",
      "source": [
        "model2.compile(optimizer='adam', loss='sparse_categorical_crossentropy', metrics=['accuracy'])"
      ],
      "metadata": {
        "id": "-vUz7E7yN9o6"
      },
      "execution_count": 37,
      "outputs": []
    },
    {
      "cell_type": "code",
      "source": [
        "model2.summary()"
      ],
      "metadata": {
        "colab": {
          "base_uri": "https://localhost:8080/"
        },
        "id": "Y130rf6dN-BZ",
        "outputId": "2183321d-372c-4b16-bb6d-47a1e6331e10"
      },
      "execution_count": 38,
      "outputs": [
        {
          "output_type": "stream",
          "name": "stdout",
          "text": [
            "Model: \"sequential_2\"\n",
            "_________________________________________________________________\n",
            " Layer (type)                Output Shape              Param #   \n",
            "=================================================================\n",
            " conv2d_2 (Conv2D)           (None, 26, 26, 32)        320       \n",
            "                                                                 \n",
            " conv2d_3 (Conv2D)           (None, 24, 24, 32)        9248      \n",
            "                                                                 \n",
            " max_pooling2d_2 (MaxPooling  (None, 12, 12, 32)       0         \n",
            " 2D)                                                             \n",
            "                                                                 \n",
            " flatten_2 (Flatten)         (None, 4608)              0         \n",
            "                                                                 \n",
            " dense_4 (Dense)             (None, 100)               460900    \n",
            "                                                                 \n",
            " dense_5 (Dense)             (None, 10)                1010      \n",
            "                                                                 \n",
            "=================================================================\n",
            "Total params: 471,478\n",
            "Trainable params: 471,478\n",
            "Non-trainable params: 0\n",
            "_________________________________________________________________\n"
          ]
        }
      ]
    },
    {
      "cell_type": "code",
      "source": [
        "hist2 = model2.fit(train_images,train_labels,batch_size = 32, callbacks= early_stopping, epochs = 100, validation_split = 0.1, verbose= 1)"
      ],
      "metadata": {
        "colab": {
          "base_uri": "https://localhost:8080/"
        },
        "id": "-XycD44DOPhA",
        "outputId": "e9af9f50-737b-47d7-b6d8-94470924e383"
      },
      "execution_count": 39,
      "outputs": [
        {
          "output_type": "stream",
          "name": "stdout",
          "text": [
            "Epoch 1/100\n",
            "1688/1688 [==============================] - 7s 4ms/step - loss: 0.1378 - accuracy: 0.9578 - val_loss: 0.0569 - val_accuracy: 0.9853\n",
            "Epoch 2/100\n",
            "1688/1688 [==============================] - 6s 3ms/step - loss: 0.0443 - accuracy: 0.9859 - val_loss: 0.0480 - val_accuracy: 0.9888\n",
            "Epoch 3/100\n",
            "1688/1688 [==============================] - 6s 3ms/step - loss: 0.0280 - accuracy: 0.9913 - val_loss: 0.0359 - val_accuracy: 0.9913\n",
            "Epoch 4/100\n",
            "1688/1688 [==============================] - 6s 3ms/step - loss: 0.0209 - accuracy: 0.9930 - val_loss: 0.0469 - val_accuracy: 0.9873\n",
            "Epoch 5/100\n",
            "1688/1688 [==============================] - 6s 3ms/step - loss: 0.0140 - accuracy: 0.9956 - val_loss: 0.0427 - val_accuracy: 0.9898\n",
            "Epoch 6/100\n",
            "1688/1688 [==============================] - 6s 4ms/step - loss: 0.0110 - accuracy: 0.9961 - val_loss: 0.0507 - val_accuracy: 0.9900\n",
            "Epoch 7/100\n",
            "1688/1688 [==============================] - 6s 3ms/step - loss: 0.0090 - accuracy: 0.9969 - val_loss: 0.0411 - val_accuracy: 0.9913\n",
            "Epoch 8/100\n",
            "1688/1688 [==============================] - 6s 4ms/step - loss: 0.0075 - accuracy: 0.9976 - val_loss: 0.0491 - val_accuracy: 0.9908\n",
            "Epoch 9/100\n",
            "1688/1688 [==============================] - 6s 3ms/step - loss: 0.0076 - accuracy: 0.9972 - val_loss: 0.0459 - val_accuracy: 0.9897\n",
            "Epoch 10/100\n",
            "1688/1688 [==============================] - 6s 4ms/step - loss: 0.0049 - accuracy: 0.9984 - val_loss: 0.0536 - val_accuracy: 0.9898\n",
            "Epoch 11/100\n",
            "1688/1688 [==============================] - 6s 4ms/step - loss: 0.0045 - accuracy: 0.9985 - val_loss: 0.0496 - val_accuracy: 0.9907\n",
            "Epoch 12/100\n",
            "1688/1688 [==============================] - 6s 4ms/step - loss: 0.0049 - accuracy: 0.9985 - val_loss: 0.0464 - val_accuracy: 0.9937\n",
            "Epoch 13/100\n",
            "1688/1688 [==============================] - 6s 4ms/step - loss: 0.0041 - accuracy: 0.9986 - val_loss: 0.0742 - val_accuracy: 0.9868\n",
            "Epoch 14/100\n",
            "1688/1688 [==============================] - 6s 3ms/step - loss: 0.0043 - accuracy: 0.9986 - val_loss: 0.0486 - val_accuracy: 0.9912\n",
            "Epoch 15/100\n",
            "1688/1688 [==============================] - 6s 4ms/step - loss: 0.0024 - accuracy: 0.9992 - val_loss: 0.0734 - val_accuracy: 0.9907\n",
            "Epoch 16/100\n",
            "1688/1688 [==============================] - 6s 4ms/step - loss: 0.0037 - accuracy: 0.9989 - val_loss: 0.0489 - val_accuracy: 0.9917\n",
            "Epoch 17/100\n",
            "1688/1688 [==============================] - 6s 4ms/step - loss: 0.0018 - accuracy: 0.9994 - val_loss: 0.0658 - val_accuracy: 0.9908\n",
            "Epoch 18/100\n",
            "1688/1688 [==============================] - 6s 3ms/step - loss: 0.0038 - accuracy: 0.9989 - val_loss: 0.0621 - val_accuracy: 0.9910\n",
            "Epoch 19/100\n",
            "1688/1688 [==============================] - 6s 4ms/step - loss: 0.0027 - accuracy: 0.9990 - val_loss: 0.0890 - val_accuracy: 0.9898\n",
            "Epoch 20/100\n",
            "1688/1688 [==============================] - 6s 3ms/step - loss: 0.0022 - accuracy: 0.9993 - val_loss: 0.0838 - val_accuracy: 0.9897\n",
            "Epoch 21/100\n",
            "1688/1688 [==============================] - 6s 4ms/step - loss: 0.0031 - accuracy: 0.9991 - val_loss: 0.0661 - val_accuracy: 0.9915\n",
            "Epoch 22/100\n",
            "1688/1688 [==============================] - 6s 4ms/step - loss: 0.0033 - accuracy: 0.9991 - val_loss: 0.0784 - val_accuracy: 0.9907\n",
            "Epoch 23/100\n",
            "1688/1688 [==============================] - 6s 4ms/step - loss: 0.0040 - accuracy: 0.9987 - val_loss: 0.0656 - val_accuracy: 0.9923\n",
            "Epoch 23: early stopping\n"
          ]
        }
      ]
    },
    {
      "cell_type": "code",
      "source": [
        "history3_df = pd.DataFrame(hist2.history)\n",
        "\n",
        "history3_df.loc[0:, ['loss', 'val_loss']].plot()\n",
        "history3_df.loc[0:, ['accuracy', 'val_accuracy']].plot()\n",
        "print((\"Best Validation Loss: {:0.4f}\" +\\\n",
        "      \"\\nBest Validation Accuracy: {:0.4f}\")\\\n",
        "      .format(history3_df['val_loss'].min(), \n",
        "              history3_df['val_accuracy'].max()))"
      ],
      "metadata": {
        "colab": {
          "base_uri": "https://localhost:8080/",
          "height": 548
        },
        "id": "zcGozdaOORgp",
        "outputId": "62f181fd-0cee-4041-f78d-982c3413be1a"
      },
      "execution_count": 40,
      "outputs": [
        {
          "output_type": "stream",
          "name": "stdout",
          "text": [
            "Best Validation Loss: 0.0359\n",
            "Best Validation Accuracy: 0.9937\n"
          ]
        },
        {
          "output_type": "display_data",
          "data": {
            "text/plain": [
              "<Figure size 432x288 with 1 Axes>"
            ],
            "image/png": "[encoded data removed]"
          },
          "metadata": {
            "needs_background": "light"
          }
        },
        {
          "output_type": "display_data",
          "data": {
            "text/plain": [
              "<Figure size 432x288 with 1 Axes>"
            ],
            "image/png": "[encoded data removed]"
          },
          "metadata": {
            "needs_background": "light"
          }
        }
      ]
    },
    {
      "cell_type": "code",
      "source": [
        "test_loss, test_accuracy = model2.evaluate(test_images, test_labels)\n",
        "print(\"\\n Accuracy of model:\",test_accuracy)"
      ],
      "metadata": {
        "colab": {
          "base_uri": "https://localhost:8080/"
        },
        "id": "OiGIthNSOywI",
        "outputId": "58445c7b-41d6-479b-ae11-199b36bd2481"
      },
      "execution_count": 41,
      "outputs": [
        {
          "output_type": "stream",
          "name": "stdout",
          "text": [
            "313/313 [==============================] - 1s 2ms/step - loss: 0.0702 - accuracy: 0.9899\n",
            "\n",
            " Accuracy of model: 0.9898999929428101\n"
          ]
        }
      ]
    },
    {
      "cell_type": "markdown",
      "source": [
        "#**CIFAR10**"
      ],
      "metadata": {
        "id": "rZ7c9WMnPCJJ"
      }
    },
    {
      "cell_type": "code",
      "source": [
        "cf=keras.datasets.cifar10"
      ],
      "metadata": {
        "id": "u1Z2TnOBO8RR"
      },
      "execution_count": 42,
      "outputs": []
    },
    {
      "cell_type": "code",
      "source": [
        "(train_images,train_labels),(test_images,test_labels)=cf.load_data()"
      ],
      "metadata": {
        "id": "kywF_09jPLvB"
      },
      "execution_count": 43,
      "outputs": []
    },
    {
      "cell_type": "code",
      "source": [
        "#Normalisation\n",
        "\n",
        "train_images= train_images/255\n",
        "test_images= test_images/255"
      ],
      "metadata": {
        "id": "58OPxWKMPPKR"
      },
      "execution_count": 44,
      "outputs": []
    },
    {
      "cell_type": "code",
      "source": [
        "train_images[0].shape"
      ],
      "metadata": {
        "colab": {
          "base_uri": "https://localhost:8080/"
        },
        "id": "PTuuPG1ZPTCp",
        "outputId": "43ca559b-ac8f-407e-856d-a15941f3a00b"
      },
      "execution_count": 45,
      "outputs": [
        {
          "output_type": "execute_result",
          "data": {
            "text/plain": [
              "(32, 32, 3)"
            ]
          },
          "metadata": {},
          "execution_count": 45
        }
      ]
    },
    {
      "cell_type": "code",
      "source": [
        "#Build model\n",
        "from keras.models import Sequential\n",
        "from keras.layers import Dense, Conv2D, Flatten"
      ],
      "metadata": {
        "id": "GIcP7-ArPWmQ"
      },
      "execution_count": 46,
      "outputs": []
    },
    {
      "cell_type": "code",
      "source": [
        "\n",
        "model3 = keras.Sequential()\n",
        "\n",
        "model3.add(keras.Input(shape=(32,32,3)))\n",
        "model3.add(keras.layers.Conv2D(32,kernel_size=(3,3), activation=\"relu\", padding = \"valid\"))\n",
        "model3.add(keras.layers.Conv2D(32,kernel_size=(3,3), activation=\"relu\", padding = \"valid\"))\n",
        "model3.add(keras.layers.MaxPooling2D(pool_size=(2,2), strides=2))\n",
        "model3.add(keras.layers.Flatten())\n",
        "model3.add(keras.layers.Dense(100, activation='relu'))\n",
        "model3.add(keras.layers.Dense(10, activation='softmax'))"
      ],
      "metadata": {
        "id": "HROrjXf5PbiA"
      },
      "execution_count": 47,
      "outputs": []
    },
    {
      "cell_type": "code",
      "source": [
        "model3.compile(optimizer='adam', loss='sparse_categorical_crossentropy', metrics=['accuracy'])"
      ],
      "metadata": {
        "id": "mIRpddS9Pm8p"
      },
      "execution_count": 48,
      "outputs": []
    },
    {
      "cell_type": "code",
      "source": [
        "model3.summary()"
      ],
      "metadata": {
        "colab": {
          "base_uri": "https://localhost:8080/"
        },
        "id": "3RP42WAFPrZ4",
        "outputId": "8db9479d-8dbf-4c29-ed73-00f542aee76b"
      },
      "execution_count": 49,
      "outputs": [
        {
          "output_type": "stream",
          "name": "stdout",
          "text": [
            "Model: \"sequential_3\"\n",
            "_________________________________________________________________\n",
            " Layer (type)                Output Shape              Param #   \n",
            "=================================================================\n",
            " conv2d_4 (Conv2D)           (None, 30, 30, 32)        896       \n",
            "                                                                 \n",
            " conv2d_5 (Conv2D)           (None, 28, 28, 32)        9248      \n",
            "                                                                 \n",
            " max_pooling2d_3 (MaxPooling  (None, 14, 14, 32)       0         \n",
            " 2D)                                                             \n",
            "                                                                 \n",
            " flatten_3 (Flatten)         (None, 6272)              0         \n",
            "                                                                 \n",
            " dense_6 (Dense)             (None, 100)               627300    \n",
            "                                                                 \n",
            " dense_7 (Dense)             (None, 10)                1010      \n",
            "                                                                 \n",
            "=================================================================\n",
            "Total params: 638,454\n",
            "Trainable params: 638,454\n",
            "Non-trainable params: 0\n",
            "_________________________________________________________________\n"
          ]
        }
      ]
    },
    {
      "cell_type": "code",
      "source": [
        "hist3 = model3.fit(train_images,train_labels,batch_size = 32, callbacks= early_stopping, epochs = 100, validation_split = 0.1, verbose= 1)"
      ],
      "metadata": {
        "colab": {
          "base_uri": "https://localhost:8080/"
        },
        "id": "8LvNZWLEPuAZ",
        "outputId": "c61a1e7d-f9a0-4450-a3c6-cd7410f9d25e"
      },
      "execution_count": 50,
      "outputs": [
        {
          "output_type": "stream",
          "name": "stdout",
          "text": [
            "Epoch 1/100\n",
            "1407/1407 [==============================] - 6s 4ms/step - loss: 1.3668 - accuracy: 0.5110 - val_loss: 1.0977 - val_accuracy: 0.6210\n",
            "Epoch 2/100\n",
            "1407/1407 [==============================] - 5s 4ms/step - loss: 1.0070 - accuracy: 0.6465 - val_loss: 0.9620 - val_accuracy: 0.6684\n",
            "Epoch 3/100\n",
            "1407/1407 [==============================] - 5s 4ms/step - loss: 0.8764 - accuracy: 0.6926 - val_loss: 0.9392 - val_accuracy: 0.6754\n",
            "Epoch 4/100\n",
            "1407/1407 [==============================] - 5s 4ms/step - loss: 0.7724 - accuracy: 0.7294 - val_loss: 1.0080 - val_accuracy: 0.6580\n",
            "Epoch 5/100\n",
            "1407/1407 [==============================] - 5s 4ms/step - loss: 0.6791 - accuracy: 0.7630 - val_loss: 1.0013 - val_accuracy: 0.6628\n",
            "Epoch 6/100\n",
            "1407/1407 [==============================] - 5s 4ms/step - loss: 0.5899 - accuracy: 0.7926 - val_loss: 0.9510 - val_accuracy: 0.6948\n",
            "Epoch 7/100\n",
            "1407/1407 [==============================] - 6s 4ms/step - loss: 0.4918 - accuracy: 0.8276 - val_loss: 1.0422 - val_accuracy: 0.6900\n",
            "Epoch 8/100\n",
            "1407/1407 [==============================] - 6s 4ms/step - loss: 0.4062 - accuracy: 0.8577 - val_loss: 1.1300 - val_accuracy: 0.6776\n",
            "Epoch 9/100\n",
            "1407/1407 [==============================] - 6s 4ms/step - loss: 0.3286 - accuracy: 0.8849 - val_loss: 1.2948 - val_accuracy: 0.6668\n",
            "Epoch 10/100\n",
            "1407/1407 [==============================] - 5s 4ms/step - loss: 0.2633 - accuracy: 0.9070 - val_loss: 1.3971 - val_accuracy: 0.6736\n",
            "Epoch 11/100\n",
            "1407/1407 [==============================] - 5s 4ms/step - loss: 0.2078 - accuracy: 0.9278 - val_loss: 1.5842 - val_accuracy: 0.6700\n",
            "Epoch 12/100\n",
            "1407/1407 [==============================] - 5s 4ms/step - loss: 0.1663 - accuracy: 0.9421 - val_loss: 1.8299 - val_accuracy: 0.6580\n",
            "Epoch 13/100\n",
            "1407/1407 [==============================] - 5s 4ms/step - loss: 0.1472 - accuracy: 0.9480 - val_loss: 1.8961 - val_accuracy: 0.6566\n",
            "Epoch 14/100\n",
            "1407/1407 [==============================] - 5s 4ms/step - loss: 0.1214 - accuracy: 0.9582 - val_loss: 2.0711 - val_accuracy: 0.6604\n",
            "Epoch 15/100\n",
            "1407/1407 [==============================] - 5s 4ms/step - loss: 0.1146 - accuracy: 0.9604 - val_loss: 2.3001 - val_accuracy: 0.6452\n",
            "Epoch 16/100\n",
            "1407/1407 [==============================] - 5s 4ms/step - loss: 0.0994 - accuracy: 0.9657 - val_loss: 2.3917 - val_accuracy: 0.6446\n",
            "Epoch 17/100\n",
            "1407/1407 [==============================] - 5s 4ms/step - loss: 0.0905 - accuracy: 0.9686 - val_loss: 2.4058 - val_accuracy: 0.6492\n",
            "Epoch 18/100\n",
            "1407/1407 [==============================] - 5s 4ms/step - loss: 0.0885 - accuracy: 0.9701 - val_loss: 2.6324 - val_accuracy: 0.6468\n",
            "Epoch 19/100\n",
            "1407/1407 [==============================] - 5s 4ms/step - loss: 0.0802 - accuracy: 0.9734 - val_loss: 2.6588 - val_accuracy: 0.6396\n",
            "Epoch 20/100\n",
            "1407/1407 [==============================] - 5s 4ms/step - loss: 0.0808 - accuracy: 0.9720 - val_loss: 2.7751 - val_accuracy: 0.6484\n",
            "Epoch 21/100\n",
            "1407/1407 [==============================] - 5s 4ms/step - loss: 0.0660 - accuracy: 0.9772 - val_loss: 2.8869 - val_accuracy: 0.6382\n",
            "Epoch 22/100\n",
            "1407/1407 [==============================] - 5s 4ms/step - loss: 0.0757 - accuracy: 0.9740 - val_loss: 3.0038 - val_accuracy: 0.6440\n",
            "Epoch 23/100\n",
            "1407/1407 [==============================] - 5s 4ms/step - loss: 0.0693 - accuracy: 0.9766 - val_loss: 3.0565 - val_accuracy: 0.6460\n",
            "Epoch 23: early stopping\n"
          ]
        }
      ]
    },
    {
      "cell_type": "code",
      "source": [
        ""
      ],
      "metadata": {
        "id": "5mj5eYeKP6rx"
      },
      "execution_count": 50,
      "outputs": []
    },
    {
      "cell_type": "code",
      "source": [
        "history4_df = pd.DataFrame(hist3.history)\n",
        "\n",
        "history4_df.loc[0:, ['loss', 'val_loss']].plot()\n",
        "history4_df.loc[0:, ['accuracy', 'val_accuracy']].plot()\n",
        "print((\"Best Validation Loss: {:0.4f}\" +\\\n",
        "      \"\\nBest Validation Accuracy: {:0.4f}\")\\\n",
        "      .format(history4_df['val_loss'].min(), \n",
        "              history4_df['val_accuracy'].max()))"
      ],
      "metadata": {
        "colab": {
          "base_uri": "https://localhost:8080/",
          "height": 552
        },
        "outputId": "7e9ef283-6cff-447f-a03e-8a184b835882",
        "id": "MPmwz9f_QGHU"
      },
      "execution_count": 51,
      "outputs": [
        {
          "output_type": "stream",
          "name": "stdout",
          "text": [
            "Best Validation Loss: 0.9392\n",
            "Best Validation Accuracy: 0.6948\n"
          ]
        },
        {
          "output_type": "display_data",
          "data": {
            "text/plain": [
              "<Figure size 432x288 with 1 Axes>"
            ],
            "image/png": "[encoded data removed]"
          },
          "metadata": {
            "needs_background": "light"
          }
        },
        {
          "output_type": "display_data",
          "data": {
            "text/plain": [
              "<Figure size 432x288 with 1 Axes>"
            ],
            "image/png": "[encoded data removed]"
          },
          "metadata": {
            "needs_background": "light"
          }
        }
      ]
    },
    {
      "cell_type": "code",
      "source": [
        "test_loss, test_accuracy = model3.evaluate(test_images, test_labels)\n",
        "print(\"\\n Accuracy of model:\",test_accuracy)"
      ],
      "metadata": {
        "colab": {
          "base_uri": "https://localhost:8080/"
        },
        "id": "GG6Z7ivSQK5g",
        "outputId": "74b9f8b6-b23f-411b-9488-a6e90fe132d8"
      },
      "execution_count": 52,
      "outputs": [
        {
          "output_type": "stream",
          "name": "stdout",
          "text": [
            "313/313 [==============================] - 1s 3ms/step - loss: 3.1996 - accuracy: 0.6281\n",
            "\n",
            " Accuracy of model: 0.6280999779701233\n"
          ]
        }
      ]
    },
    {
      "cell_type": "markdown",
      "source": [
        "![image.png](data:image/png;base64,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)"
      ],
      "metadata": {
        "id": "8Jk84NgoQ3DI"
      }
    },
    {
      "cell_type": "markdown",
      "source": [
        "# **MNIST**"
      ],
      "metadata": {
        "id": "HBMOJ7ofSXpA"
      }
    },
    {
      "cell_type": "code",
      "source": [
        "mnist=keras.datasets.mnist"
      ],
      "metadata": {
        "id": "M_hjALHyQP60"
      },
      "execution_count": 53,
      "outputs": []
    },
    {
      "cell_type": "code",
      "source": [
        "(train_images,train_labels),(test_images,test_labels)=mnist.load_data()"
      ],
      "metadata": {
        "id": "PrEzDnMrS7C_"
      },
      "execution_count": 54,
      "outputs": []
    },
    {
      "cell_type": "code",
      "source": [
        "#Normalisation\n",
        "train_images=train_images/255.0\n",
        "test_images=test_images/255.0"
      ],
      "metadata": {
        "id": "Dgll7M_8S-bX"
      },
      "execution_count": 55,
      "outputs": []
    },
    {
      "cell_type": "code",
      "source": [
        "train_images[0].shape"
      ],
      "metadata": {
        "colab": {
          "base_uri": "https://localhost:8080/"
        },
        "id": "YjlIADkvTD2P",
        "outputId": "0022ffd6-97a1-45d9-9c7a-872dc648a672"
      },
      "execution_count": 56,
      "outputs": [
        {
          "output_type": "execute_result",
          "data": {
            "text/plain": [
              "(28, 28)"
            ]
          },
          "metadata": {},
          "execution_count": 56
        }
      ]
    },
    {
      "cell_type": "code",
      "source": [
        "train_images=train_images.reshape(len(train_images),28,28,1)\n",
        "\n",
        "test_images=test_images.reshape(len(test_images),28,28,1)"
      ],
      "metadata": {
        "id": "uWSqBbpvTHG_"
      },
      "execution_count": 57,
      "outputs": []
    },
    {
      "cell_type": "code",
      "source": [
        "#Build model\n",
        "from keras.models import Sequential\n",
        "from keras.layers import Dense, Conv2D, Flatten"
      ],
      "metadata": {
        "id": "vKH7NkjKTKMv"
      },
      "execution_count": 58,
      "outputs": []
    },
    {
      "cell_type": "code",
      "source": [
        "\n",
        "model4 = keras.Sequential()\n",
        "\n",
        "model4.add(keras.Input(shape=(28,28,1)))\n",
        "model4.add(keras.layers.Conv2D(6,kernel_size=(5,5), activation=\"tanh\", padding = \"same\"))\n",
        "model4.add(keras.layers.MaxPooling2D(pool_size=(2,2), strides=2))\n",
        "model4.add(keras.layers.Conv2D(16,kernel_size=(5,5), activation=\"tanh\", padding = \"valid\"))\n",
        "model4.add(keras.layers.MaxPooling2D(pool_size=(2,2), strides=2))\n",
        "model4.add(keras.layers.Flatten())\n",
        "model4.add(keras.layers.Dense(120, activation='relu'))\n",
        "model4.add(keras.layers.Dense(84, activation='relu'))\n",
        "model4.add(keras.layers.Dense(10, activation='sigmoid'))"
      ],
      "metadata": {
        "id": "IAoW5kQ3Uc4M"
      },
      "execution_count": 59,
      "outputs": []
    },
    {
      "cell_type": "code",
      "source": [
        "model4.compile(optimizer='adam', loss='sparse_categorical_crossentropy', metrics=['accuracy'])"
      ],
      "metadata": {
        "id": "_NghUo9ccD42"
      },
      "execution_count": 60,
      "outputs": []
    },
    {
      "cell_type": "code",
      "source": [
        "model4.summary()"
      ],
      "metadata": {
        "colab": {
          "base_uri": "https://localhost:8080/"
        },
        "id": "9XUhCDQ2cLV9",
        "outputId": "d200b7ab-6523-4ce8-e693-13eceb7e20e0"
      },
      "execution_count": 61,
      "outputs": [
        {
          "output_type": "stream",
          "name": "stdout",
          "text": [
            "Model: \"sequential_4\"\n",
            "_________________________________________________________________\n",
            " Layer (type)                Output Shape              Param #   \n",
            "=================================================================\n",
            " conv2d_6 (Conv2D)           (None, 28, 28, 6)         156       \n",
            "                                                                 \n",
            " max_pooling2d_4 (MaxPooling  (None, 14, 14, 6)        0         \n",
            " 2D)                                                             \n",
            "                                                                 \n",
            " conv2d_7 (Conv2D)           (None, 10, 10, 16)        2416      \n",
            "                                                                 \n",
            " max_pooling2d_5 (MaxPooling  (None, 5, 5, 16)         0         \n",
            " 2D)                                                             \n",
            "                                                                 \n",
            " flatten_4 (Flatten)         (None, 400)               0         \n",
            "                                                                 \n",
            " dense_8 (Dense)             (None, 120)               48120     \n",
            "                                                                 \n",
            " dense_9 (Dense)             (None, 84)                10164     \n",
            "                                                                 \n",
            " dense_10 (Dense)            (None, 10)                850       \n",
            "                                                                 \n",
            "=================================================================\n",
            "Total params: 61,706\n",
            "Trainable params: 61,706\n",
            "Non-trainable params: 0\n",
            "_________________________________________________________________\n"
          ]
        }
      ]
    },
    {
      "cell_type": "code",
      "source": [
        "hist4 = model4.fit(train_images,train_labels,batch_size = 32, callbacks= early_stopping, epochs = 100, validation_split = 0.1, verbose= 1)"
      ],
      "metadata": {
        "colab": {
          "base_uri": "https://localhost:8080/"
        },
        "id": "sLwwTn5XcUZt",
        "outputId": "64480206-bd2e-4ea4-a6d5-9840d4179979"
      },
      "execution_count": 62,
      "outputs": [
        {
          "output_type": "stream",
          "name": "stdout",
          "text": [
            "Epoch 1/100\n",
            "1688/1688 [==============================] - 7s 4ms/step - loss: 0.1870 - accuracy: 0.9418 - val_loss: 0.0639 - val_accuracy: 0.9812\n",
            "Epoch 2/100\n",
            "1688/1688 [==============================] - 5s 3ms/step - loss: 0.0592 - accuracy: 0.9813 - val_loss: 0.0668 - val_accuracy: 0.9803\n",
            "Epoch 3/100\n",
            "1688/1688 [==============================] - 5s 3ms/step - loss: 0.0416 - accuracy: 0.9866 - val_loss: 0.0504 - val_accuracy: 0.9863\n",
            "Epoch 4/100\n",
            "1688/1688 [==============================] - 5s 3ms/step - loss: 0.0328 - accuracy: 0.9894 - val_loss: 0.0507 - val_accuracy: 0.9835\n",
            "Epoch 5/100\n",
            "1688/1688 [==============================] - 6s 3ms/step - loss: 0.0261 - accuracy: 0.9916 - val_loss: 0.0538 - val_accuracy: 0.9857\n",
            "Epoch 6/100\n",
            "1688/1688 [==============================] - 6s 3ms/step - loss: 0.0237 - accuracy: 0.9923 - val_loss: 0.0527 - val_accuracy: 0.9848\n",
            "Epoch 7/100\n",
            "1688/1688 [==============================] - 6s 3ms/step - loss: 0.0185 - accuracy: 0.9943 - val_loss: 0.0510 - val_accuracy: 0.9892\n",
            "Epoch 8/100\n",
            "1688/1688 [==============================] - 5s 3ms/step - loss: 0.0171 - accuracy: 0.9944 - val_loss: 0.0589 - val_accuracy: 0.9870\n",
            "Epoch 9/100\n",
            "1688/1688 [==============================] - 6s 3ms/step - loss: 0.0149 - accuracy: 0.9949 - val_loss: 0.0621 - val_accuracy: 0.9868\n",
            "Epoch 10/100\n",
            "1688/1688 [==============================] - 5s 3ms/step - loss: 0.0152 - accuracy: 0.9949 - val_loss: 0.0535 - val_accuracy: 0.9878\n",
            "Epoch 11/100\n",
            "1688/1688 [==============================] - 5s 3ms/step - loss: 0.0130 - accuracy: 0.9960 - val_loss: 0.0466 - val_accuracy: 0.9897\n",
            "Epoch 12/100\n",
            "1688/1688 [==============================] - 6s 3ms/step - loss: 0.0114 - accuracy: 0.9964 - val_loss: 0.0522 - val_accuracy: 0.9892\n",
            "Epoch 13/100\n",
            "1688/1688 [==============================] - 6s 3ms/step - loss: 0.0116 - accuracy: 0.9962 - val_loss: 0.0559 - val_accuracy: 0.9888\n",
            "Epoch 14/100\n",
            "1688/1688 [==============================] - 5s 3ms/step - loss: 0.0102 - accuracy: 0.9964 - val_loss: 0.0787 - val_accuracy: 0.9857\n",
            "Epoch 15/100\n",
            "1688/1688 [==============================] - 6s 3ms/step - loss: 0.0099 - accuracy: 0.9967 - val_loss: 0.0682 - val_accuracy: 0.9885\n",
            "Epoch 16/100\n",
            "1688/1688 [==============================] - 6s 3ms/step - loss: 0.0098 - accuracy: 0.9969 - val_loss: 0.0776 - val_accuracy: 0.9870\n",
            "Epoch 17/100\n",
            "1688/1688 [==============================] - 6s 3ms/step - loss: 0.0092 - accuracy: 0.9971 - val_loss: 0.0647 - val_accuracy: 0.9895\n",
            "Epoch 18/100\n",
            "1688/1688 [==============================] - 6s 3ms/step - loss: 0.0084 - accuracy: 0.9975 - val_loss: 0.0748 - val_accuracy: 0.9902\n",
            "Epoch 19/100\n",
            "1688/1688 [==============================] - 6s 3ms/step - loss: 0.0076 - accuracy: 0.9976 - val_loss: 0.0854 - val_accuracy: 0.9867\n",
            "Epoch 20/100\n",
            "1688/1688 [==============================] - 5s 3ms/step - loss: 0.0088 - accuracy: 0.9977 - val_loss: 0.0883 - val_accuracy: 0.9852\n",
            "Epoch 21/100\n",
            "1688/1688 [==============================] - 6s 3ms/step - loss: 0.0085 - accuracy: 0.9975 - val_loss: 0.0751 - val_accuracy: 0.9890\n",
            "Epoch 22/100\n",
            "1688/1688 [==============================] - 6s 3ms/step - loss: 0.0080 - accuracy: 0.9977 - val_loss: 0.0830 - val_accuracy: 0.9872\n",
            "Epoch 23/100\n",
            "1688/1688 [==============================] - 6s 3ms/step - loss: 0.0074 - accuracy: 0.9976 - val_loss: 0.0885 - val_accuracy: 0.9867\n",
            "Epoch 23: early stopping\n"
          ]
        }
      ]
    },
    {
      "cell_type": "code",
      "source": [
        "history5_df = pd.DataFrame(hist4.history)\n",
        "\n",
        "history5_df.loc[0:, ['loss', 'val_loss']].plot()\n",
        "history5_df.loc[0:, ['accuracy', 'val_accuracy']].plot()\n",
        "print((\"Best Validation Loss: {:0.4f}\" +\\\n",
        "      \"\\nBest Validation Accuracy: {:0.4f}\")\\\n",
        "      .format(history5_df['val_loss'].min(), \n",
        "              history5_df['val_accuracy'].max()))"
      ],
      "metadata": {
        "colab": {
          "base_uri": "https://localhost:8080/",
          "height": 551
        },
        "id": "566gVHCccXoF",
        "outputId": "e029ce01-2737-4db5-fdad-4892f74584af"
      },
      "execution_count": 63,
      "outputs": [
        {
          "output_type": "stream",
          "name": "stdout",
          "text": [
            "Best Validation Loss: 0.0466\n",
            "Best Validation Accuracy: 0.9902\n"
          ]
        },
        {
          "output_type": "display_data",
          "data": {
            "text/plain": [
              "<Figure size 432x288 with 1 Axes>"
            ],
            "image/png": "[encoded data removed]"
          },
          "metadata": {
            "needs_background": "light"
          }
        },
        {
          "output_type": "display_data",
          "data": {
            "text/plain": [
              "<Figure size 432x288 with 1 Axes>"
            ],
            "image/png": "[encoded data removed]"
          },
          "metadata": {
            "needs_background": "light"
          }
        }
      ]
    },
    {
      "cell_type": "code",
      "source": [
        "test_loss, test_accuracy = model4.evaluate(test_images, test_labels)\n",
        "print(\"\\n Accuracy of model:\",test_accuracy)"
      ],
      "metadata": {
        "colab": {
          "base_uri": "https://localhost:8080/"
        },
        "id": "EK2AMwm4cgD8",
        "outputId": "b1d4989d-70cc-481c-fc49-e32f197a7645"
      },
      "execution_count": 64,
      "outputs": [
        {
          "output_type": "stream",
          "name": "stdout",
          "text": [
            "313/313 [==============================] - 1s 2ms/step - loss: 0.0828 - accuracy: 0.9863\n",
            "\n",
            " Accuracy of model: 0.986299991607666\n"
          ]
        }
      ]
    },
    {
      "cell_type": "markdown",
      "source": [
        "# CIFAR10"
      ],
      "metadata": {
        "id": "luj_A6FAstuR"
      }
    },
    {
      "cell_type": "code",
      "source": [
        "cf=keras.datasets.cifar10"
      ],
      "metadata": {
        "id": "xnXG87wOsv7M"
      },
      "execution_count": 4,
      "outputs": []
    },
    {
      "cell_type": "code",
      "source": [
        "(train_images,train_labels),(test_images,test_labels)=cf.load_data()"
      ],
      "metadata": {
        "colab": {
          "base_uri": "https://localhost:8080/"
        },
        "id": "Wdi3oshN4rdw",
        "outputId": "794897f4-564a-48b5-b02a-a5a3552f9c3b"
      },
      "execution_count": 5,
      "outputs": [
        {
          "output_type": "stream",
          "name": "stdout",
          "text": [
            "Downloading data from https://www.cs.toronto.edu/~kriz/cifar-10-python.tar.gz\n",
            "170500096/170498071 [==============================] - 14s 0us/step\n",
            "170508288/170498071 [==============================] - 14s 0us/step\n"
          ]
        }
      ]
    },
    {
      "cell_type": "code",
      "source": [
        "#Normalisation\n",
        "\n",
        "train_images= train_images/255\n",
        "test_images= test_images/255"
      ],
      "metadata": {
        "id": "_cCl1Wtz4w8v"
      },
      "execution_count": 6,
      "outputs": []
    },
    {
      "cell_type": "code",
      "source": [
        "model5_cifar = tf.keras.Sequential([\n",
        "    tf.keras.layers.Input(shape=(32,32,3)),\n",
        "    layers.Conv2D(6, 5, activation='tanh', padding=\"same\"),\n",
        "    # layers.BatchNormalization(),\n",
        "    layers.MaxPool2D(2, strides=2),\n",
        "    layers.Conv2D(16, 5, activation='tanh'),\n",
        "    # layers.BatchNormalization(),\n",
        "    layers.MaxPool2D(2, strides=2),\n",
        "    layers.Flatten(),\n",
        "    layers.Dense(120, activation='sigmoid'),\n",
        "    layers.Dense(84, activation='sigmoid'),\n",
        "    layers.Dense(10, activation='softmax')\n",
        "])\n",
        "\n"
      ],
      "metadata": {
        "id": "3JSDn5nMs1M4"
      },
      "execution_count": 10,
      "outputs": []
    },
    {
      "cell_type": "code",
      "source": [
        "model5_cifar.compile(optimizer='adam', loss='sparse_categorical_crossentropy', metrics=['accuracy'])"
      ],
      "metadata": {
        "id": "ZgzdcOP35pE7"
      },
      "execution_count": 11,
      "outputs": []
    },
    {
      "cell_type": "code",
      "source": [
        "hist5 = model5_cifar.fit(train_images,train_labels,batch_size = 128, callbacks= early_stopping, epochs = 100, validation_split = 0.1, verbose= 1)"
      ],
      "metadata": {
        "colab": {
          "base_uri": "https://localhost:8080/"
        },
        "id": "7hbS2baL6V6m",
        "outputId": "7010a798-26d9-4b83-e64f-f42848aed813"
      },
      "execution_count": 14,
      "outputs": [
        {
          "output_type": "stream",
          "name": "stdout",
          "text": [
            "Epoch 1/100\n",
            "352/352 [==============================] - 13s 6ms/step - loss: 1.8537 - accuracy: 0.3253 - val_loss: 1.5999 - val_accuracy: 0.4272\n",
            "Epoch 2/100\n",
            "352/352 [==============================] - 2s 4ms/step - loss: 1.5385 - accuracy: 0.4426 - val_loss: 1.4400 - val_accuracy: 0.4820\n",
            "Epoch 3/100\n",
            "352/352 [==============================] - 2s 5ms/step - loss: 1.4236 - accuracy: 0.4859 - val_loss: 1.3621 - val_accuracy: 0.5140\n",
            "Epoch 4/100\n",
            "352/352 [==============================] - 2s 4ms/step - loss: 1.3327 - accuracy: 0.5184 - val_loss: 1.2916 - val_accuracy: 0.5382\n",
            "Epoch 5/100\n",
            "352/352 [==============================] - 2s 5ms/step - loss: 1.2672 - accuracy: 0.5455 - val_loss: 1.2477 - val_accuracy: 0.5564\n",
            "Epoch 6/100\n",
            "352/352 [==============================] - 2s 7ms/step - loss: 1.2020 - accuracy: 0.5682 - val_loss: 1.1912 - val_accuracy: 0.5718\n",
            "Epoch 7/100\n",
            "352/352 [==============================] - 2s 5ms/step - loss: 1.1489 - accuracy: 0.5880 - val_loss: 1.1578 - val_accuracy: 0.5852\n",
            "Epoch 8/100\n",
            "352/352 [==============================] - 2s 4ms/step - loss: 1.1036 - accuracy: 0.6063 - val_loss: 1.1206 - val_accuracy: 0.6036\n",
            "Epoch 9/100\n",
            "352/352 [==============================] - 2s 5ms/step - loss: 1.0582 - accuracy: 0.6229 - val_loss: 1.0855 - val_accuracy: 0.6140\n",
            "Epoch 10/100\n",
            "352/352 [==============================] - 2s 5ms/step - loss: 1.0224 - accuracy: 0.6366 - val_loss: 1.0638 - val_accuracy: 0.6218\n",
            "Epoch 11/100\n",
            "352/352 [==============================] - 2s 4ms/step - loss: 0.9854 - accuracy: 0.6497 - val_loss: 1.0715 - val_accuracy: 0.6182\n",
            "Epoch 12/100\n",
            "352/352 [==============================] - 2s 5ms/step - loss: 0.9546 - accuracy: 0.6615 - val_loss: 1.0356 - val_accuracy: 0.6362\n",
            "Epoch 13/100\n",
            "352/352 [==============================] - 2s 4ms/step - loss: 0.9258 - accuracy: 0.6724 - val_loss: 1.0499 - val_accuracy: 0.6290\n",
            "Epoch 14/100\n",
            "352/352 [==============================] - 2s 4ms/step - loss: 0.9008 - accuracy: 0.6812 - val_loss: 1.0217 - val_accuracy: 0.6392\n",
            "Epoch 15/100\n",
            "352/352 [==============================] - 2s 5ms/step - loss: 0.8686 - accuracy: 0.6937 - val_loss: 1.0187 - val_accuracy: 0.6424\n",
            "Epoch 16/100\n",
            "352/352 [==============================] - 2s 4ms/step - loss: 0.8493 - accuracy: 0.7008 - val_loss: 1.0128 - val_accuracy: 0.6454\n",
            "Epoch 17/100\n",
            "352/352 [==============================] - 2s 4ms/step - loss: 0.8269 - accuracy: 0.7098 - val_loss: 1.0067 - val_accuracy: 0.6462\n",
            "Epoch 18/100\n",
            "352/352 [==============================] - 2s 4ms/step - loss: 0.8025 - accuracy: 0.7203 - val_loss: 1.0188 - val_accuracy: 0.6442\n",
            "Epoch 19/100\n",
            "352/352 [==============================] - 2s 5ms/step - loss: 0.7801 - accuracy: 0.7280 - val_loss: 1.0561 - val_accuracy: 0.6348\n",
            "Epoch 20/100\n",
            "352/352 [==============================] - 2s 5ms/step - loss: 0.7644 - accuracy: 0.7320 - val_loss: 1.0115 - val_accuracy: 0.6510\n",
            "Epoch 21/100\n",
            "352/352 [==============================] - 2s 5ms/step - loss: 0.7404 - accuracy: 0.7420 - val_loss: 1.0201 - val_accuracy: 0.6508\n",
            "Epoch 22/100\n",
            "352/352 [==============================] - 2s 5ms/step - loss: 0.7225 - accuracy: 0.7480 - val_loss: 1.0310 - val_accuracy: 0.6468\n",
            "Epoch 23/100\n",
            "352/352 [==============================] - 2s 4ms/step - loss: 0.6986 - accuracy: 0.7551 - val_loss: 1.0325 - val_accuracy: 0.6474\n",
            "Epoch 24/100\n",
            "352/352 [==============================] - 2s 4ms/step - loss: 0.6804 - accuracy: 0.7636 - val_loss: 1.0497 - val_accuracy: 0.6474\n",
            "Epoch 25/100\n",
            "352/352 [==============================] - 2s 4ms/step - loss: 0.6632 - accuracy: 0.7705 - val_loss: 1.0676 - val_accuracy: 0.6426\n",
            "Epoch 26/100\n",
            "352/352 [==============================] - 2s 5ms/step - loss: 0.6438 - accuracy: 0.7750 - val_loss: 1.0687 - val_accuracy: 0.6470\n",
            "Epoch 27/100\n",
            "352/352 [==============================] - 2s 4ms/step - loss: 0.6268 - accuracy: 0.7820 - val_loss: 1.0876 - val_accuracy: 0.6414\n",
            "Epoch 28/100\n",
            "352/352 [==============================] - 2s 4ms/step - loss: 0.6154 - accuracy: 0.7865 - val_loss: 1.0967 - val_accuracy: 0.6396\n",
            "Epoch 29/100\n",
            "352/352 [==============================] - 2s 5ms/step - loss: 0.5914 - accuracy: 0.7954 - val_loss: 1.1170 - val_accuracy: 0.6422\n",
            "Epoch 30/100\n",
            "352/352 [==============================] - 2s 4ms/step - loss: 0.5780 - accuracy: 0.7986 - val_loss: 1.1246 - val_accuracy: 0.6406\n",
            "Epoch 31/100\n",
            "352/352 [==============================] - 2s 4ms/step - loss: 0.5567 - accuracy: 0.8096 - val_loss: 1.1365 - val_accuracy: 0.6444\n",
            "Epoch 32/100\n",
            "352/352 [==============================] - 2s 4ms/step - loss: 0.5412 - accuracy: 0.8143 - val_loss: 1.1599 - val_accuracy: 0.6376\n",
            "Epoch 33/100\n",
            "352/352 [==============================] - 2s 5ms/step - loss: 0.5267 - accuracy: 0.8188 - val_loss: 1.1656 - val_accuracy: 0.6396\n",
            "Epoch 34/100\n",
            "352/352 [==============================] - 2s 5ms/step - loss: 0.5099 - accuracy: 0.8257 - val_loss: 1.2010 - val_accuracy: 0.6310\n",
            "Epoch 35/100\n",
            "352/352 [==============================] - 2s 5ms/step - loss: 0.4957 - accuracy: 0.8299 - val_loss: 1.2100 - val_accuracy: 0.6378\n",
            "Epoch 36/100\n",
            "352/352 [==============================] - 2s 5ms/step - loss: 0.4791 - accuracy: 0.8366 - val_loss: 1.2435 - val_accuracy: 0.6308\n",
            "Epoch 37/100\n",
            "352/352 [==============================] - 2s 5ms/step - loss: 0.4623 - accuracy: 0.8451 - val_loss: 1.2452 - val_accuracy: 0.6358\n",
            "Epoch 37: early stopping\n"
          ]
        }
      ]
    },
    {
      "cell_type": "code",
      "source": [
        "model5_cifar.summary()"
      ],
      "metadata": {
        "colab": {
          "base_uri": "https://localhost:8080/"
        },
        "id": "jow57MjZ7D-C",
        "outputId": "b90e7005-b85e-4680-84af-ae3a7902d159"
      },
      "execution_count": 15,
      "outputs": [
        {
          "output_type": "stream",
          "name": "stdout",
          "text": [
            "Model: \"sequential\"\n",
            "_________________________________________________________________\n",
            " Layer (type)                Output Shape              Param #   \n",
            "=================================================================\n",
            " conv2d (Conv2D)             (None, 32, 32, 6)         456       \n",
            "                                                                 \n",
            " max_pooling2d (MaxPooling2D  (None, 16, 16, 6)        0         \n",
            " )                                                               \n",
            "                                                                 \n",
            " conv2d_1 (Conv2D)           (None, 12, 12, 16)        2416      \n",
            "                                                                 \n",
            " max_pooling2d_1 (MaxPooling  (None, 6, 6, 16)         0         \n",
            " 2D)                                                             \n",
            "                                                                 \n",
            " flatten (Flatten)           (None, 576)               0         \n",
            "                                                                 \n",
            " dense (Dense)               (None, 120)               69240     \n",
            "                                                                 \n",
            " dense_1 (Dense)             (None, 84)                10164     \n",
            "                                                                 \n",
            " dense_2 (Dense)             (None, 10)                850       \n",
            "                                                                 \n",
            "=================================================================\n",
            "Total params: 83,126\n",
            "Trainable params: 83,126\n",
            "Non-trainable params: 0\n",
            "_________________________________________________________________\n"
          ]
        }
      ]
    },
    {
      "cell_type": "code",
      "source": [
        "history6_df = pd.DataFrame(hist5.history)\n",
        "\n",
        "history6_df.loc[0:, ['loss', 'val_loss']].plot()\n",
        "history6_df.loc[0:, ['accuracy', 'val_accuracy']].plot()\n",
        "print((\"Best Validation Loss: {:0.4f}\" +\\\n",
        "      \"\\nBest Validation Accuracy: {:0.4f}\")\\\n",
        "      .format(history6_df['val_loss'].min(), \n",
        "              history6_df['val_accuracy'].max()))"
      ],
      "metadata": {
        "colab": {
          "base_uri": "https://localhost:8080/",
          "height": 548
        },
        "id": "FDnXCY_M7HJl",
        "outputId": "7b795c74-0c37-4abb-eb4e-8ff1511a4a13"
      },
      "execution_count": 16,
      "outputs": [
        {
          "output_type": "stream",
          "name": "stdout",
          "text": [
            "Best Validation Loss: 1.0067\n",
            "Best Validation Accuracy: 0.6510\n"
          ]
        },
        {
          "output_type": "display_data",
          "data": {
            "text/plain": [
              "<Figure size 432x288 with 1 Axes>"
            ],
            "image/png": "[encoded data removed]"
          },
          "metadata": {
            "needs_background": "light"
          }
        },
        {
          "output_type": "display_data",
          "data": {
            "text/plain": [
              "<Figure size 432x288 with 1 Axes>"
            ],
            "image/png": "[encoded data removed]"
          },
          "metadata": {
            "needs_background": "light"
          }
        }
      ]
    },
    {
      "cell_type": "code",
      "source": [
        "test_loss, test_accuracy = model5_cifar.evaluate(test_images, test_labels)\n",
        "print(\"\\n Accuracy of model:\",test_accuracy)"
      ],
      "metadata": {
        "colab": {
          "base_uri": "https://localhost:8080/"
        },
        "id": "zbtlfGhT9QiC",
        "outputId": "d29cc889-4731-4ac2-86ea-648b035455a7"
      },
      "execution_count": 17,
      "outputs": [
        {
          "output_type": "stream",
          "name": "stdout",
          "text": [
            "313/313 [==============================] - 1s 4ms/step - loss: 1.3413 - accuracy: 0.6095\n",
            "\n",
            " Accuracy of model: 0.609499990940094\n"
          ]
        }
      ]
    },
    {
      "cell_type": "code",
      "source": [
        ""
      ],
      "metadata": {
        "id": "njOVVdRN9TLj"
      },
      "execution_count": null,
      "outputs": []
    },
    {
      "cell_type": "markdown",
      "source": [
        "# ***After tuning hyperparameters and architecture***"
      ],
      "metadata": {
        "id": "bxuMvjkA9mHk"
      }
    },
    {
      "cell_type": "markdown",
      "source": [
        "**MNIST**"
      ],
      "metadata": {
        "id": "rVTKSbt49tWR"
      }
    },
    {
      "cell_type": "code",
      "source": [
        "def define_model():\n",
        "\tmodel = Sequential()\n",
        "\tmodel.add(Conv2D(32, (3, 3), activation='relu', kernel_initializer='he_uniform', padding='same', input_shape=(28,28,1)))\n",
        "\tmodel.add(Conv2D(32, (3, 3), activation='relu', kernel_initializer='he_uniform', padding='same'))\n",
        "\tmodel.add(MaxPooling2D((2, 2)))\n",
        "\tmodel.add(Dropout(0.2))\n",
        "\tmodel.add(Conv2D(64, (3, 3), activation='relu', kernel_initializer='he_uniform', padding='same'))\n",
        "\tmodel.add(Conv2D(64, (3, 3), activation='relu', kernel_initializer='he_uniform', padding='same'))\n",
        "\tmodel.add(MaxPooling2D((2, 2)))\n",
        "\tmodel.add(Dropout(0.3))\n",
        "\tmodel.add(Conv2D(128, (3, 3), activation='relu', kernel_initializer='he_uniform', padding='same'))\n",
        "\tmodel.add(Conv2D(128, (3, 3), activation='relu', kernel_initializer='he_uniform', padding='same'))\n",
        "\tmodel.add(MaxPooling2D((2, 2)))\n",
        "\tmodel.add(Dropout(0.4))\n",
        "\tmodel.add(Flatten())\n",
        "\tmodel.add(Dense(128, activation='relu', kernel_initializer='he_uniform'))\n",
        "\tmodel.add(Dropout(0.5))\n",
        "\tmodel.add(Dense(10, activation='softmax'))\n",
        "\t# compile model\n",
        "\topt = SGD(learning_rate=0.001, momentum=0.9)\n",
        "\tmodel.compile(optimizer=opt, loss='sparse_categorical_crossentropy', metrics=['accuracy'])\n",
        "\treturn model"
      ],
      "metadata": {
        "id": "8W24Y1IZ9sVC"
      },
      "execution_count": 18,
      "outputs": []
    },
    {
      "cell_type": "code",
      "source": [
        "mnist=keras.datasets.mnist"
      ],
      "metadata": {
        "id": "_owpXXiy92DP"
      },
      "execution_count": 20,
      "outputs": []
    },
    {
      "cell_type": "code",
      "source": [
        "(train_images,train_labels),(test_images,test_labels)=mnist.load_data()"
      ],
      "metadata": {
        "id": "nFEVtVis-C8z"
      },
      "execution_count": 22,
      "outputs": []
    },
    {
      "cell_type": "code",
      "source": [
        "#Normalisation\n",
        "train_images=train_images/255.0\n",
        "test_images=test_images/255.0\n"
      ],
      "metadata": {
        "id": "uRsj_P-f-ISB"
      },
      "execution_count": 23,
      "outputs": []
    },
    {
      "cell_type": "code",
      "source": [
        "modelfinal=define_model()\n",
        "historyfinal = modelfinal.fit(train_images, train_labels, epochs=200, batch_size=64, validation_split=0.15,callbacks=[early_stopping])\n",
        "history_final = pd.DataFrame(historyfinal.history)\n",
        "history_final.loc[0:, ['loss', 'val_loss']].plot()\n",
        "history_final.loc[0:, ['accuracy', 'val_accuracy']].plot()\n",
        "print((\"Best Validation Loss: {:0.4f}\" +\\\n",
        "      \"\\nBest Validation Accuracy: {:0.4f}\")\\\n",
        "      .format(history_final['val_loss'].min(), \n",
        "              history_final['val_accuracy'].max()))"
      ],
      "metadata": {
        "colab": {
          "base_uri": "https://localhost:8080/",
          "height": 1000
        },
        "id": "XK8tcBD_-JZQ",
        "outputId": "4aa21b56-9a2c-4d0f-e576-c00965e98dce"
      },
      "execution_count": 24,
      "outputs": [
        {
          "output_type": "stream",
          "name": "stdout",
          "text": [
            "Epoch 1/200\n",
            "797/797 [==============================] - 8s 8ms/step - loss: 1.4921 - accuracy: 0.4735 - val_loss: 0.2135 - val_accuracy: 0.9443\n",
            "Epoch 2/200\n",
            "797/797 [==============================] - 6s 7ms/step - loss: 0.3941 - accuracy: 0.8770 - val_loss: 0.1041 - val_accuracy: 0.9696\n",
            "Epoch 3/200\n",
            "797/797 [==============================] - 6s 8ms/step - loss: 0.2604 - accuracy: 0.9211 - val_loss: 0.0839 - val_accuracy: 0.9747\n",
            "Epoch 4/200\n",
            "797/797 [==============================] - 7s 8ms/step - loss: 0.2047 - accuracy: 0.9373 - val_loss: 0.0659 - val_accuracy: 0.9800\n",
            "Epoch 5/200\n",
            "797/797 [==============================] - 7s 9ms/step - loss: 0.1776 - accuracy: 0.9478 - val_loss: 0.0604 - val_accuracy: 0.9820\n",
            "Epoch 6/200\n",
            "797/797 [==============================] - 7s 9ms/step - loss: 0.1559 - accuracy: 0.9545 - val_loss: 0.0603 - val_accuracy: 0.9823\n",
            "Epoch 7/200\n",
            "797/797 [==============================] - 6s 7ms/step - loss: 0.1365 - accuracy: 0.9593 - val_loss: 0.0529 - val_accuracy: 0.9851\n",
            "Epoch 8/200\n",
            "797/797 [==============================] - 6s 8ms/step - loss: 0.1249 - accuracy: 0.9632 - val_loss: 0.0526 - val_accuracy: 0.9848\n",
            "Epoch 9/200\n",
            "797/797 [==============================] - 7s 8ms/step - loss: 0.1172 - accuracy: 0.9646 - val_loss: 0.0436 - val_accuracy: 0.9884\n",
            "Epoch 10/200\n",
            "797/797 [==============================] - 6s 7ms/step - loss: 0.1112 - accuracy: 0.9673 - val_loss: 0.0411 - val_accuracy: 0.9887\n",
            "Epoch 11/200\n",
            "797/797 [==============================] - 6s 7ms/step - loss: 0.1026 - accuracy: 0.9699 - val_loss: 0.0396 - val_accuracy: 0.9897\n",
            "Epoch 12/200\n",
            "797/797 [==============================] - 6s 8ms/step - loss: 0.0984 - accuracy: 0.9711 - val_loss: 0.0377 - val_accuracy: 0.9903\n",
            "Epoch 13/200\n",
            "797/797 [==============================] - 6s 7ms/step - loss: 0.0913 - accuracy: 0.9728 - val_loss: 0.0392 - val_accuracy: 0.9892\n",
            "Epoch 14/200\n",
            "797/797 [==============================] - 7s 9ms/step - loss: 0.0926 - accuracy: 0.9736 - val_loss: 0.0355 - val_accuracy: 0.9899\n",
            "Epoch 15/200\n",
            "797/797 [==============================] - 6s 7ms/step - loss: 0.0858 - accuracy: 0.9748 - val_loss: 0.0381 - val_accuracy: 0.9892\n",
            "Epoch 16/200\n",
            "797/797 [==============================] - 6s 8ms/step - loss: 0.0805 - accuracy: 0.9761 - val_loss: 0.0357 - val_accuracy: 0.9903\n",
            "Epoch 17/200\n",
            "797/797 [==============================] - 7s 8ms/step - loss: 0.0749 - accuracy: 0.9775 - val_loss: 0.0329 - val_accuracy: 0.9902\n",
            "Epoch 18/200\n",
            "797/797 [==============================] - 6s 7ms/step - loss: 0.0727 - accuracy: 0.9785 - val_loss: 0.0333 - val_accuracy: 0.9907\n",
            "Epoch 19/200\n",
            "797/797 [==============================] - 6s 7ms/step - loss: 0.0724 - accuracy: 0.9781 - val_loss: 0.0333 - val_accuracy: 0.9904\n",
            "Epoch 20/200\n",
            "797/797 [==============================] - 6s 8ms/step - loss: 0.0687 - accuracy: 0.9804 - val_loss: 0.0356 - val_accuracy: 0.9903\n",
            "Epoch 21/200\n",
            "797/797 [==============================] - 6s 8ms/step - loss: 0.0663 - accuracy: 0.9797 - val_loss: 0.0326 - val_accuracy: 0.9911\n",
            "Epoch 22/200\n",
            "797/797 [==============================] - 6s 7ms/step - loss: 0.0648 - accuracy: 0.9808 - val_loss: 0.0313 - val_accuracy: 0.9911\n",
            "Epoch 23/200\n",
            "797/797 [==============================] - 6s 7ms/step - loss: 0.0649 - accuracy: 0.9807 - val_loss: 0.0304 - val_accuracy: 0.9918\n",
            "Epoch 24/200\n",
            "797/797 [==============================] - 7s 9ms/step - loss: 0.0606 - accuracy: 0.9824 - val_loss: 0.0299 - val_accuracy: 0.9911\n",
            "Epoch 25/200\n",
            "797/797 [==============================] - 7s 9ms/step - loss: 0.0623 - accuracy: 0.9815 - val_loss: 0.0319 - val_accuracy: 0.9910\n",
            "Epoch 26/200\n",
            "797/797 [==============================] - 7s 9ms/step - loss: 0.0582 - accuracy: 0.9830 - val_loss: 0.0318 - val_accuracy: 0.9917\n",
            "Epoch 27/200\n",
            "797/797 [==============================] - 6s 8ms/step - loss: 0.0562 - accuracy: 0.9838 - val_loss: 0.0272 - val_accuracy: 0.9927\n",
            "Epoch 28/200\n",
            "797/797 [==============================] - 6s 7ms/step - loss: 0.0540 - accuracy: 0.9846 - val_loss: 0.0289 - val_accuracy: 0.9923\n",
            "Epoch 29/200\n",
            "797/797 [==============================] - 6s 7ms/step - loss: 0.0543 - accuracy: 0.9838 - val_loss: 0.0282 - val_accuracy: 0.9926\n",
            "Epoch 30/200\n",
            "797/797 [==============================] - 6s 8ms/step - loss: 0.0541 - accuracy: 0.9841 - val_loss: 0.0274 - val_accuracy: 0.9924\n",
            "Epoch 31/200\n",
            "797/797 [==============================] - 6s 8ms/step - loss: 0.0505 - accuracy: 0.9852 - val_loss: 0.0278 - val_accuracy: 0.9927\n",
            "Epoch 32/200\n",
            "797/797 [==============================] - 6s 8ms/step - loss: 0.0496 - accuracy: 0.9857 - val_loss: 0.0278 - val_accuracy: 0.9928\n",
            "Epoch 33/200\n",
            "797/797 [==============================] - 8s 10ms/step - loss: 0.0494 - accuracy: 0.9854 - val_loss: 0.0269 - val_accuracy: 0.9927\n",
            "Epoch 34/200\n",
            "797/797 [==============================] - 8s 9ms/step - loss: 0.0481 - accuracy: 0.9857 - val_loss: 0.0268 - val_accuracy: 0.9926\n",
            "Epoch 35/200\n",
            "797/797 [==============================] - 7s 9ms/step - loss: 0.0508 - accuracy: 0.9854 - val_loss: 0.0273 - val_accuracy: 0.9929\n",
            "Epoch 36/200\n",
            "797/797 [==============================] - 6s 8ms/step - loss: 0.0454 - accuracy: 0.9865 - val_loss: 0.0265 - val_accuracy: 0.9926\n",
            "Epoch 37/200\n",
            "797/797 [==============================] - 6s 7ms/step - loss: 0.0469 - accuracy: 0.9864 - val_loss: 0.0273 - val_accuracy: 0.9929\n",
            "Epoch 38/200\n",
            "797/797 [==============================] - 7s 8ms/step - loss: 0.0456 - accuracy: 0.9868 - val_loss: 0.0280 - val_accuracy: 0.9927\n",
            "Epoch 39/200\n",
            "797/797 [==============================] - 6s 7ms/step - loss: 0.0441 - accuracy: 0.9865 - val_loss: 0.0279 - val_accuracy: 0.9927\n",
            "Epoch 40/200\n",
            "797/797 [==============================] - 6s 8ms/step - loss: 0.0447 - accuracy: 0.9872 - val_loss: 0.0264 - val_accuracy: 0.9930\n",
            "Epoch 41/200\n",
            "797/797 [==============================] - 6s 8ms/step - loss: 0.0436 - accuracy: 0.9864 - val_loss: 0.0258 - val_accuracy: 0.9931\n",
            "Epoch 42/200\n",
            "797/797 [==============================] - 6s 7ms/step - loss: 0.0428 - accuracy: 0.9872 - val_loss: 0.0269 - val_accuracy: 0.9924\n",
            "Epoch 43/200\n",
            "797/797 [==============================] - 6s 7ms/step - loss: 0.0409 - accuracy: 0.9880 - val_loss: 0.0277 - val_accuracy: 0.9927\n",
            "Epoch 43: early stopping\n",
            "Best Validation Loss: 0.0258\n",
            "Best Validation Accuracy: 0.9931\n"
          ]
        },
        {
          "output_type": "display_data",
          "data": {
            "text/plain": [
              "<Figure size 432x288 with 1 Axes>"
            ],
            "image/png": "[encoded data removed]"
          },
          "metadata": {
            "needs_background": "light"
          }
        },
        {
          "output_type": "display_data",
          "data": {
            "text/plain": [
              "<Figure size 432x288 with 1 Axes>"
            ],
            "image/png": "[encoded data removed]"
          },
          "metadata": {
            "needs_background": "light"
          }
        }
      ]
    },
    {
      "cell_type": "code",
      "source": [
        "test_lossfinal, test = modelfinal.evaluate(test_images, test_labels, verbose=2)\n",
        "\n",
        "print('\\nTest accuracy of MNIST :', test)"
      ],
      "metadata": {
        "colab": {
          "base_uri": "https://localhost:8080/"
        },
        "id": "PkIYwB_k-Qet",
        "outputId": "06b15185-0ff6-4b97-fe20-17810632c3dd"
      },
      "execution_count": 25,
      "outputs": [
        {
          "output_type": "stream",
          "name": "stdout",
          "text": [
            "313/313 - 1s - loss: 0.0163 - accuracy: 0.9948 - 1s/epoch - 3ms/step\n",
            "\n",
            "Test accuracy of MNIST : 0.9947999715805054\n"
          ]
        }
      ]
    },
    {
      "cell_type": "markdown",
      "source": [
        "**CIFAR**"
      ],
      "metadata": {
        "id": "hbQG6y-x-eWZ"
      }
    },
    {
      "cell_type": "code",
      "source": [
        "cf=keras.datasets.cifar10"
      ],
      "metadata": {
        "id": "txrWit_P-prB"
      },
      "execution_count": 26,
      "outputs": []
    },
    {
      "cell_type": "code",
      "source": [
        "(train_images,train_labels),(test_images,test_labels)=cf.load_data()"
      ],
      "metadata": {
        "id": "L9-aObI4-vKH"
      },
      "execution_count": 26,
      "outputs": []
    },
    {
      "cell_type": "code",
      "source": [
        "#Normalisation\n",
        "\n",
        "train_images= train_images/255\n",
        "test_images= test_images/255"
      ],
      "metadata": {
        "id": "M-_xbZeT-z_N"
      },
      "execution_count": 27,
      "outputs": []
    },
    {
      "cell_type": "code",
      "source": [
        "model=define_model()\n",
        "history = model.fit(train_images, train_labels, epochs=200, batch_size=64, validation_split=0.15,callbacks=[early_stopping])"
      ],
      "metadata": {
        "colab": {
          "base_uri": "https://localhost:8080/"
        },
        "id": "QlqjYtx0-dwr",
        "outputId": "8eff4138-9402-47ad-f641-08b7980016b9"
      },
      "execution_count": 29,
      "outputs": [
        {
          "output_type": "stream",
          "name": "stdout",
          "text": [
            "Epoch 1/200\n",
            "797/797 [==============================] - 7s 8ms/step - loss: 2.3018 - accuracy: 0.1095 - val_loss: 2.3016 - val_accuracy: 0.1063\n",
            "Epoch 2/200\n",
            "797/797 [==============================] - 6s 7ms/step - loss: 2.3012 - accuracy: 0.1136 - val_loss: 2.3015 - val_accuracy: 0.1063\n",
            "Epoch 3/200\n",
            "797/797 [==============================] - 6s 7ms/step - loss: 2.3008 - accuracy: 0.1145 - val_loss: 2.3013 - val_accuracy: 0.1063\n",
            "Epoch 4/200\n",
            "797/797 [==============================] - 6s 8ms/step - loss: 2.3002 - accuracy: 0.1144 - val_loss: 2.3000 - val_accuracy: 0.1063\n",
            "Epoch 5/200\n",
            "797/797 [==============================] - 6s 7ms/step - loss: 2.2975 - accuracy: 0.1216 - val_loss: 2.2968 - val_accuracy: 0.1063\n",
            "Epoch 6/200\n",
            "797/797 [==============================] - 6s 7ms/step - loss: 2.2947 - accuracy: 0.1278 - val_loss: 2.2876 - val_accuracy: 0.2239\n",
            "Epoch 7/200\n",
            "797/797 [==============================] - 6s 7ms/step - loss: 2.2906 - accuracy: 0.1367 - val_loss: 2.3034 - val_accuracy: 0.1063\n",
            "Epoch 8/200\n",
            "797/797 [==============================] - 6s 7ms/step - loss: 2.2927 - accuracy: 0.1338 - val_loss: 2.3051 - val_accuracy: 0.1063\n",
            "Epoch 9/200\n",
            "797/797 [==============================] - 6s 8ms/step - loss: 2.2828 - accuracy: 0.1489 - val_loss: 2.3058 - val_accuracy: 0.1063\n",
            "Epoch 10/200\n",
            "797/797 [==============================] - 6s 7ms/step - loss: 2.2838 - accuracy: 0.1461 - val_loss: 2.2581 - val_accuracy: 0.1442\n",
            "Epoch 11/200\n",
            "797/797 [==============================] - 6s 8ms/step - loss: 2.2698 - accuracy: 0.1662 - val_loss: 2.2957 - val_accuracy: 0.1063\n",
            "Epoch 12/200\n",
            "797/797 [==============================] - 6s 8ms/step - loss: 2.2583 - accuracy: 0.1763 - val_loss: 2.2232 - val_accuracy: 0.1932\n",
            "Epoch 13/200\n",
            "797/797 [==============================] - 6s 7ms/step - loss: 2.2313 - accuracy: 0.1735 - val_loss: 2.3073 - val_accuracy: 0.1063\n",
            "Epoch 14/200\n",
            "797/797 [==============================] - 6s 7ms/step - loss: 2.2882 - accuracy: 0.1313 - val_loss: 2.3008 - val_accuracy: 0.1063\n",
            "Epoch 15/200\n",
            "797/797 [==============================] - 6s 7ms/step - loss: 2.2752 - accuracy: 0.1488 - val_loss: 2.1458 - val_accuracy: 0.4453\n",
            "Epoch 16/200\n",
            "797/797 [==============================] - 6s 7ms/step - loss: 2.2591 - accuracy: 0.1527 - val_loss: 2.1659 - val_accuracy: 0.3730\n",
            "Epoch 17/200\n",
            "797/797 [==============================] - 6s 7ms/step - loss: 2.2686 - accuracy: 0.1437 - val_loss: 2.3032 - val_accuracy: 0.1063\n",
            "Epoch 18/200\n",
            "797/797 [==============================] - 6s 7ms/step - loss: 2.3027 - accuracy: 0.1121 - val_loss: 2.3023 - val_accuracy: 0.1063\n",
            "Epoch 19/200\n",
            "797/797 [==============================] - 6s 7ms/step - loss: 2.3018 - accuracy: 0.1132 - val_loss: 2.3020 - val_accuracy: 0.1063\n",
            "Epoch 20/200\n",
            "797/797 [==============================] - 6s 7ms/step - loss: 2.3020 - accuracy: 0.1117 - val_loss: 2.3020 - val_accuracy: 0.1063\n",
            "Epoch 21/200\n",
            "797/797 [==============================] - 6s 7ms/step - loss: 2.3015 - accuracy: 0.1128 - val_loss: 2.3021 - val_accuracy: 0.1063\n",
            "Epoch 22/200\n",
            "797/797 [==============================] - 6s 7ms/step - loss: 2.3014 - accuracy: 0.1130 - val_loss: 2.3021 - val_accuracy: 0.1063\n",
            "Epoch 23/200\n",
            "797/797 [==============================] - 6s 7ms/step - loss: 2.3016 - accuracy: 0.1130 - val_loss: 2.3021 - val_accuracy: 0.1063\n",
            "Epoch 24/200\n",
            "797/797 [==============================] - 6s 7ms/step - loss: 2.3016 - accuracy: 0.1134 - val_loss: 2.3021 - val_accuracy: 0.1063\n",
            "Epoch 25/200\n",
            "797/797 [==============================] - 6s 7ms/step - loss: 2.3014 - accuracy: 0.1135 - val_loss: 2.3019 - val_accuracy: 0.1063\n",
            "Epoch 26/200\n",
            "797/797 [==============================] - 6s 7ms/step - loss: 2.3012 - accuracy: 0.1132 - val_loss: 2.3021 - val_accuracy: 0.1063\n",
            "Epoch 27/200\n",
            "797/797 [==============================] - 6s 7ms/step - loss: 2.3012 - accuracy: 0.1133 - val_loss: 2.3021 - val_accuracy: 0.1063\n",
            "Epoch 28/200\n",
            "797/797 [==============================] - 6s 7ms/step - loss: 2.3014 - accuracy: 0.1134 - val_loss: 2.3020 - val_accuracy: 0.1063\n",
            "Epoch 29/200\n",
            "797/797 [==============================] - 6s 7ms/step - loss: 2.3012 - accuracy: 0.1135 - val_loss: 2.3020 - val_accuracy: 0.1063\n",
            "Epoch 30/200\n",
            "797/797 [==============================] - 6s 7ms/step - loss: 2.3013 - accuracy: 0.1134 - val_loss: 2.3021 - val_accuracy: 0.1063\n",
            "Epoch 31/200\n",
            "797/797 [==============================] - 6s 7ms/step - loss: 2.3012 - accuracy: 0.1134 - val_loss: 2.3020 - val_accuracy: 0.1063\n",
            "Epoch 32/200\n",
            "797/797 [==============================] - 6s 7ms/step - loss: 2.3012 - accuracy: 0.1134 - val_loss: 2.3020 - val_accuracy: 0.1063\n",
            "Epoch 33/200\n",
            "797/797 [==============================] - 6s 7ms/step - loss: 2.3012 - accuracy: 0.1134 - val_loss: 2.3020 - val_accuracy: 0.1063\n",
            "Epoch 34/200\n",
            "797/797 [==============================] - 6s 7ms/step - loss: 2.3012 - accuracy: 0.1134 - val_loss: 2.3020 - val_accuracy: 0.1063\n",
            "Epoch 35/200\n",
            "797/797 [==============================] - 6s 7ms/step - loss: 2.3012 - accuracy: 0.1134 - val_loss: 2.3020 - val_accuracy: 0.1063\n",
            "Epoch 35: early stopping\n"
          ]
        }
      ]
    },
    {
      "cell_type": "code",
      "source": [
        "history_df = pd.DataFrame(history.history)\n",
        "history_df.loc[0:, ['loss', 'val_loss']].plot()\n",
        "history_df.loc[0:, ['accuracy', 'val_accuracy']].plot()\n",
        "print((\"Best Validation Loss: {:0.4f}\" +\\\n",
        "      \"\\nBest Validation Accuracy: {:0.4f}\")\\\n",
        "      .format(history_df['val_loss'].min(), \n",
        "              history_df['val_accuracy'].max()))"
      ],
      "metadata": {
        "colab": {
          "base_uri": "https://localhost:8080/",
          "height": 548
        },
        "id": "yE8EahWg-0-5",
        "outputId": "6ea26e15-cf3c-4fec-b57d-9b16e36cb081"
      },
      "execution_count": 30,
      "outputs": [
        {
          "output_type": "stream",
          "name": "stdout",
          "text": [
            "Best Validation Loss: 2.1458\n",
            "Best Validation Accuracy: 0.4453\n"
          ]
        },
        {
          "output_type": "display_data",
          "data": {
            "text/plain": [
              "<Figure size 432x288 with 1 Axes>"
            ],
            "image/png": "[encoded data removed]"
          },
          "metadata": {
            "needs_background": "light"
          }
        },
        {
          "output_type": "display_data",
          "data": {
            "text/plain": [
              "<Figure size 432x288 with 1 Axes>"
            ],
            "image/png": "[encoded data removed]"
          },
          "metadata": {
            "needs_background": "light"
          }
        }
      ]
    },
    {
      "cell_type": "code",
      "source": [
        "test_loss, test_acc = model.evaluate(test_images, test_labels, verbose=2)\n",
        "\n",
        "print('\\nTest accuracy of CIFAR with Changed Architecture and Hyperparameters:', test_acc)"
      ],
      "metadata": {
        "colab": {
          "base_uri": "https://localhost:8080/"
        },
        "id": "a9HnnhD_--qU",
        "outputId": "939b136f-4989-4c67-d205-4e5983692242"
      },
      "execution_count": 31,
      "outputs": [
        {
          "output_type": "stream",
          "name": "stdout",
          "text": [
            "313/313 - 1s - loss: 2.3010 - accuracy: 0.1135 - 826ms/epoch - 3ms/step\n",
            "\n",
            "Test accuracy of CIFAR with Changed Architecture and Hyperparameters: 0.11349999904632568\n"
          ]
        }
      ]
    },
    {
      "cell_type": "markdown",
      "source": [
        "***Comparision***"
      ],
      "metadata": {
        "id": "zFPcDN-0_Lm4"
      }
    },
    {
      "cell_type": "code",
      "source": [
        ""
      ],
      "metadata": {
        "id": "ALPy03IM_GUy"
      },
      "execution_count": 32,
      "outputs": []
    },
    {
      "cell_type": "code",
      "source": [
        ""
      ],
      "metadata": {
        "id": "fJF5VP9x_PPe"
      },
      "execution_count": null,
      "outputs": []
    }
  ]
}