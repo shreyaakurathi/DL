{
  "nbformat": 4,
  "nbformat_minor": 0,
  "metadata": {
    "colab": {
      "name": "200968258Week5.ipynb",
      "provenance": []
    },
    "kernelspec": {
      "name": "python3",
      "display_name": "Python 3"
    },
    "language_info": {
      "name": "python"
    }
  },
  "cells": [
    {
      "cell_type": "code",
      "execution_count": 12,
      "metadata": {
        "id": "wpuRqSB1GqHa"
      },
      "outputs": [],
      "source": [
        "import pandas as pd\n",
        "import matplotlib.pyplot as plt\n",
        "import numpy as np\n",
        "from sklearn.datasets import fetch_california_housing "
      ]
    },
    {
      "cell_type": "code",
      "source": [
        "df = fetch_california_housing(as_frame=True)\n",
        "df.frame.head()"
      ],
      "metadata": {
        "colab": {
          "base_uri": "https://localhost:8080/",
          "height": 206
        },
        "id": "hzyZ_WZxOdF1",
        "outputId": "ecbb7485-d7c0-461d-8e65-3d2c0ac11e57"
      },
      "execution_count": 13,
      "outputs": [
        {
          "output_type": "execute_result",
          "data": {
            "text/plain": [
              "   MedInc  HouseAge  AveRooms  AveBedrms  Population  AveOccup  Latitude  \\\n",
              "0  8.3252      41.0  6.984127   1.023810       322.0  2.555556     37.88   \n",
              "1  8.3014      21.0  6.238137   0.971880      2401.0  2.109842     37.86   \n",
              "2  7.2574      52.0  8.288136   1.073446       496.0  2.802260     37.85   \n",
              "3  5.6431      52.0  5.817352   1.073059       558.0  2.547945     37.85   \n",
              "4  3.8462      52.0  6.281853   1.081081       565.0  2.181467     37.85   \n",
              "\n",
              "   Longitude  MedHouseVal  \n",
              "0    -122.23        4.526  \n",
              "1    -122.22        3.585  \n",
              "2    -122.24        3.521  \n",
              "3    -122.25        3.413  \n",
              "4    -122.25        3.422  "
            ],
            "text/html": [
              "\n",
              "  <div id=\"df-6560c253-649c-4c73-999d-fd08df028e34\">\n",
              "    <div class=\"colab-df-container\">\n",
              "      <div>\n",
              "<style scoped>\n",
              "    .dataframe tbody tr th:only-of-type {\n",
              "        vertical-align: middle;\n",
              "    }\n",
              "\n",
              "    .dataframe tbody tr th {\n",
              "        vertical-align: top;\n",
              "    }\n",
              "\n",
              "    .dataframe thead th {\n",
              "        text-align: right;\n",
              "    }\n",
              "</style>\n",
              "<table border=\"1\" class=\"dataframe\">\n",
              "  <thead>\n",
              "    <tr style=\"text-align: right;\">\n",
              "      <th></th>\n",
              "      <th>MedInc</th>\n",
              "      <th>HouseAge</th>\n",
              "      <th>AveRooms</th>\n",
              "      <th>AveBedrms</th>\n",
              "      <th>Population</th>\n",
              "      <th>AveOccup</th>\n",
              "      <th>Latitude</th>\n",
              "      <th>Longitude</th>\n",
              "      <th>MedHouseVal</th>\n",
              "    </tr>\n",
              "  </thead>\n",
              "  <tbody>\n",
              "    <tr>\n",
              "      <th>0</th>\n",
              "      <td>8.3252</td>\n",
              "      <td>41.0</td>\n",
              "      <td>6.984127</td>\n",
              "      <td>1.023810</td>\n",
              "      <td>322.0</td>\n",
              "      <td>2.555556</td>\n",
              "      <td>37.88</td>\n",
              "      <td>-122.23</td>\n",
              "      <td>4.526</td>\n",
              "    </tr>\n",
              "    <tr>\n",
              "      <th>1</th>\n",
              "      <td>8.3014</td>\n",
              "      <td>21.0</td>\n",
              "      <td>6.238137</td>\n",
              "      <td>0.971880</td>\n",
              "      <td>2401.0</td>\n",
              "      <td>2.109842</td>\n",
              "      <td>37.86</td>\n",
              "      <td>-122.22</td>\n",
              "      <td>3.585</td>\n",
              "    </tr>\n",
              "    <tr>\n",
              "      <th>2</th>\n",
              "      <td>7.2574</td>\n",
              "      <td>52.0</td>\n",
              "      <td>8.288136</td>\n",
              "      <td>1.073446</td>\n",
              "      <td>496.0</td>\n",
              "      <td>2.802260</td>\n",
              "      <td>37.85</td>\n",
              "      <td>-122.24</td>\n",
              "      <td>3.521</td>\n",
              "    </tr>\n",
              "    <tr>\n",
              "      <th>3</th>\n",
              "      <td>5.6431</td>\n",
              "      <td>52.0</td>\n",
              "      <td>5.817352</td>\n",
              "      <td>1.073059</td>\n",
              "      <td>558.0</td>\n",
              "      <td>2.547945</td>\n",
              "      <td>37.85</td>\n",
              "      <td>-122.25</td>\n",
              "      <td>3.413</td>\n",
              "    </tr>\n",
              "    <tr>\n",
              "      <th>4</th>\n",
              "      <td>3.8462</td>\n",
              "      <td>52.0</td>\n",
              "      <td>6.281853</td>\n",
              "      <td>1.081081</td>\n",
              "      <td>565.0</td>\n",
              "      <td>2.181467</td>\n",
              "      <td>37.85</td>\n",
              "      <td>-122.25</td>\n",
              "      <td>3.422</td>\n",
              "    </tr>\n",
              "  </tbody>\n",
              "</table>\n",
              "</div>\n",
              "      <button class=\"colab-df-convert\" onclick=\"convertToInteractive('df-6560c253-649c-4c73-999d-fd08df028e34')\"\n",
              "              title=\"Convert this dataframe to an interactive table.\"\n",
              "              style=\"display:none;\">\n",
              "        \n",
              "  <svg xmlns=\"http://www.w3.org/2000/svg\" height=\"24px\"viewBox=\"0 0 24 24\"\n",
              "       width=\"24px\">\n",
              "    <path d=\"M0 0h24v24H0V0z\" fill=\"none\"/>\n",
              "    <path d=\"M18.56 5.44l.94 2.06.94-2.06 2.06-.94-2.06-.94-.94-2.06-.94 2.06-2.06.94zm-11 1L8.5 8.5l.94-2.06 2.06-.94-2.06-.94L8.5 2.5l-.94 2.06-2.06.94zm10 10l.94 2.06.94-2.06 2.06-.94-2.06-.94-.94-2.06-.94 2.06-2.06.94z\"/><path d=\"M17.41 7.96l-1.37-1.37c-.4-.4-.92-.59-1.43-.59-.52 0-1.04.2-1.43.59L10.3 9.45l-7.72 7.72c-.78.78-.78 2.05 0 2.83L4 21.41c.39.39.9.59 1.41.59.51 0 1.02-.2 1.41-.59l7.78-7.78 2.81-2.81c.8-.78.8-2.07 0-2.86zM5.41 20L4 18.59l7.72-7.72 1.47 1.35L5.41 20z\"/>\n",
              "  </svg>\n",
              "      </button>\n",
              "      \n",
              "  <style>\n",
              "    .colab-df-container {\n",
              "      display:flex;\n",
              "      flex-wrap:wrap;\n",
              "      gap: 12px;\n",
              "    }\n",
              "\n",
              "    .colab-df-convert {\n",
              "      background-color: #E8F0FE;\n",
              "      border: none;\n",
              "      border-radius: 50%;\n",
              "      cursor: pointer;\n",
              "      display: none;\n",
              "      fill: #1967D2;\n",
              "      height: 32px;\n",
              "      padding: 0 0 0 0;\n",
              "      width: 32px;\n",
              "    }\n",
              "\n",
              "    .colab-df-convert:hover {\n",
              "      background-color: #E2EBFA;\n",
              "      box-shadow: 0px 1px 2px rgba(60, 64, 67, 0.3), 0px 1px 3px 1px rgba(60, 64, 67, 0.15);\n",
              "      fill: #174EA6;\n",
              "    }\n",
              "\n",
              "    [theme=dark] .colab-df-convert {\n",
              "      background-color: #3B4455;\n",
              "      fill: #D2E3FC;\n",
              "    }\n",
              "\n",
              "    [theme=dark] .colab-df-convert:hover {\n",
              "      background-color: #434B5C;\n",
              "      box-shadow: 0px 1px 3px 1px rgba(0, 0, 0, 0.15);\n",
              "      filter: drop-shadow(0px 1px 2px rgba(0, 0, 0, 0.3));\n",
              "      fill: #FFFFFF;\n",
              "    }\n",
              "  </style>\n",
              "\n",
              "      <script>\n",
              "        const buttonEl =\n",
              "          document.querySelector('#df-6560c253-649c-4c73-999d-fd08df028e34 button.colab-df-convert');\n",
              "        buttonEl.style.display =\n",
              "          google.colab.kernel.accessAllowed ? 'block' : 'none';\n",
              "\n",
              "        async function convertToInteractive(key) {\n",
              "          const element = document.querySelector('#df-6560c253-649c-4c73-999d-fd08df028e34');\n",
              "          const dataTable =\n",
              "            await google.colab.kernel.invokeFunction('convertToInteractive',\n",
              "                                                     [key], {});\n",
              "          if (!dataTable) return;\n",
              "\n",
              "          const docLinkHtml = 'Like what you see? Visit the ' +\n",
              "            '<a target=\"_blank\" href=https://colab.research.google.com/notebooks/data_table.ipynb>data table notebook</a>'\n",
              "            + ' to learn more about interactive tables.';\n",
              "          element.innerHTML = '';\n",
              "          dataTable['output_type'] = 'display_data';\n",
              "          await google.colab.output.renderOutput(dataTable, element);\n",
              "          const docLink = document.createElement('div');\n",
              "          docLink.innerHTML = docLinkHtml;\n",
              "          element.appendChild(docLink);\n",
              "        }\n",
              "      </script>\n",
              "    </div>\n",
              "  </div>\n",
              "  "
            ]
          },
          "metadata": {},
          "execution_count": 13
        }
      ]
    },
    {
      "cell_type": "code",
      "source": [
        "from sklearn.model_selection import train_test_split"
      ],
      "metadata": {
        "id": "0rAjqkDWPLdU"
      },
      "execution_count": 14,
      "outputs": []
    },
    {
      "cell_type": "code",
      "source": [
        "y = df.frame.pop('MedHouseVal')"
      ],
      "metadata": {
        "id": "-W935JOZRaWG"
      },
      "execution_count": 15,
      "outputs": []
    },
    {
      "cell_type": "code",
      "source": [
        "X_train, X_test, y_train, y_test = train_test_split(df.frame, y, test_size=0.25, random_state=42)"
      ],
      "metadata": {
        "id": "SQCcm1inSGqu"
      },
      "execution_count": 17,
      "outputs": []
    },
    {
      "cell_type": "code",
      "source": [
        "df.frame.shape"
      ],
      "metadata": {
        "colab": {
          "base_uri": "https://localhost:8080/"
        },
        "id": "v0KANipZSeqV",
        "outputId": "ed39f3ac-ea59-4d68-cddd-c804d0d7ce6b"
      },
      "execution_count": 18,
      "outputs": [
        {
          "output_type": "execute_result",
          "data": {
            "text/plain": [
              "(20640, 8)"
            ]
          },
          "metadata": {},
          "execution_count": 18
        }
      ]
    },
    {
      "cell_type": "code",
      "source": [
        "y.shape"
      ],
      "metadata": {
        "colab": {
          "base_uri": "https://localhost:8080/"
        },
        "id": "zMm0xKTVS_69",
        "outputId": "562d74e9-cb71-447b-bba9-d00b04dfbd41"
      },
      "execution_count": 19,
      "outputs": [
        {
          "output_type": "execute_result",
          "data": {
            "text/plain": [
              "(20640,)"
            ]
          },
          "metadata": {},
          "execution_count": 19
        }
      ]
    },
    {
      "cell_type": "code",
      "source": [
        "import tensorflow as tf\n",
        "from tensorflow import keras\n",
        "from keras import layers"
      ],
      "metadata": {
        "id": "h4SnjfyfSkE0"
      },
      "execution_count": 20,
      "outputs": []
    },
    {
      "cell_type": "code",
      "source": [
        "from sklearn.preprocessing import StandardScaler"
      ],
      "metadata": {
        "id": "3FEMI4kAXpTG"
      },
      "execution_count": 21,
      "outputs": []
    },
    {
      "cell_type": "code",
      "source": [
        "scaler = StandardScaler()\n",
        "X_train = scaler.fit_transform(X_train)\n",
        "X_test = scaler.fit_transform(X_test)"
      ],
      "metadata": {
        "id": "9eBjRm-uXzIE"
      },
      "execution_count": 23,
      "outputs": []
    },
    {
      "cell_type": "code",
      "source": [
        "model1 = keras.Sequential()\n",
        "model1.add(keras.Input(8,))\n",
        "model1.add(layers.Dense(30, activation= 'relu'))\n",
        "model1.add(layers.Dense(1, activation= 'linear'))\n",
        "\n",
        "model1.compile(loss = \"mean_squared_error\",optimizer = \"adam\",metrics = keras.metrics.RootMeanSquaredError())\n",
        "\n",
        "\n",
        "history = model1.fit(X_train,y_train,batch_size = 32, epochs = 20, validation_split = 0.1)"
      ],
      "metadata": {
        "colab": {
          "base_uri": "https://localhost:8080/"
        },
        "id": "QewMCmzvTHEu",
        "outputId": "51c36aae-9224-4727-ba18-d18df1e7906d"
      },
      "execution_count": 26,
      "outputs": [
        {
          "output_type": "stream",
          "name": "stdout",
          "text": [
            "Epoch 1/20\n",
            "436/436 [==============================] - 2s 3ms/step - loss: 1.5435 - root_mean_squared_error: 1.2424 - val_loss: 0.6549 - val_root_mean_squared_error: 0.8092\n",
            "Epoch 2/20\n",
            "436/436 [==============================] - 1s 2ms/step - loss: 0.5676 - root_mean_squared_error: 0.7534 - val_loss: 0.5077 - val_root_mean_squared_error: 0.7125\n",
            "Epoch 3/20\n",
            "436/436 [==============================] - 1s 2ms/step - loss: 0.4614 - root_mean_squared_error: 0.6792 - val_loss: 0.4574 - val_root_mean_squared_error: 0.6763\n",
            "Epoch 4/20\n",
            "436/436 [==============================] - 1s 2ms/step - loss: 0.4214 - root_mean_squared_error: 0.6492 - val_loss: 0.4341 - val_root_mean_squared_error: 0.6588\n",
            "Epoch 5/20\n",
            "436/436 [==============================] - 1s 2ms/step - loss: 0.4096 - root_mean_squared_error: 0.6400 - val_loss: 0.4265 - val_root_mean_squared_error: 0.6531\n",
            "Epoch 6/20\n",
            "436/436 [==============================] - 1s 2ms/step - loss: 0.3984 - root_mean_squared_error: 0.6312 - val_loss: 0.4216 - val_root_mean_squared_error: 0.6493\n",
            "Epoch 7/20\n",
            "436/436 [==============================] - 1s 2ms/step - loss: 0.3896 - root_mean_squared_error: 0.6242 - val_loss: 0.4180 - val_root_mean_squared_error: 0.6465\n",
            "Epoch 8/20\n",
            "436/436 [==============================] - 1s 2ms/step - loss: 0.3849 - root_mean_squared_error: 0.6204 - val_loss: 0.4149 - val_root_mean_squared_error: 0.6441\n",
            "Epoch 9/20\n",
            "436/436 [==============================] - 1s 2ms/step - loss: 0.3793 - root_mean_squared_error: 0.6159 - val_loss: 0.4093 - val_root_mean_squared_error: 0.6398\n",
            "Epoch 10/20\n",
            "436/436 [==============================] - 1s 2ms/step - loss: 0.3740 - root_mean_squared_error: 0.6116 - val_loss: 0.4012 - val_root_mean_squared_error: 0.6334\n",
            "Epoch 11/20\n",
            "436/436 [==============================] - 1s 2ms/step - loss: 0.3697 - root_mean_squared_error: 0.6080 - val_loss: 0.4034 - val_root_mean_squared_error: 0.6351\n",
            "Epoch 12/20\n",
            "436/436 [==============================] - 1s 2ms/step - loss: 0.3668 - root_mean_squared_error: 0.6057 - val_loss: 0.3968 - val_root_mean_squared_error: 0.6299\n",
            "Epoch 13/20\n",
            "436/436 [==============================] - 1s 2ms/step - loss: 0.3664 - root_mean_squared_error: 0.6053 - val_loss: 0.3910 - val_root_mean_squared_error: 0.6253\n",
            "Epoch 14/20\n",
            "436/436 [==============================] - 1s 2ms/step - loss: 0.3548 - root_mean_squared_error: 0.5956 - val_loss: 0.3883 - val_root_mean_squared_error: 0.6231\n",
            "Epoch 15/20\n",
            "436/436 [==============================] - 1s 2ms/step - loss: 0.3534 - root_mean_squared_error: 0.5945 - val_loss: 0.3793 - val_root_mean_squared_error: 0.6159\n",
            "Epoch 16/20\n",
            "436/436 [==============================] - 1s 2ms/step - loss: 0.3472 - root_mean_squared_error: 0.5892 - val_loss: 0.3742 - val_root_mean_squared_error: 0.6117\n",
            "Epoch 17/20\n",
            "436/436 [==============================] - 1s 2ms/step - loss: 0.3503 - root_mean_squared_error: 0.5919 - val_loss: 0.3734 - val_root_mean_squared_error: 0.6110\n",
            "Epoch 18/20\n",
            "436/436 [==============================] - 1s 2ms/step - loss: 0.3419 - root_mean_squared_error: 0.5847 - val_loss: 0.3685 - val_root_mean_squared_error: 0.6070\n",
            "Epoch 19/20\n",
            "436/436 [==============================] - 1s 2ms/step - loss: 0.3389 - root_mean_squared_error: 0.5822 - val_loss: 0.3677 - val_root_mean_squared_error: 0.6064\n",
            "Epoch 20/20\n",
            "436/436 [==============================] - 1s 2ms/step - loss: 0.3380 - root_mean_squared_error: 0.5814 - val_loss: 0.3618 - val_root_mean_squared_error: 0.6015\n"
          ]
        }
      ]
    },
    {
      "cell_type": "code",
      "source": [
        "X_trainB = X_train[:, 0:5]\n",
        "X_trainA = X_train[:, 2:8]"
      ],
      "metadata": {
        "id": "-JUZZbkKch9W"
      },
      "execution_count": 27,
      "outputs": []
    },
    {
      "cell_type": "code",
      "source": [
        "inputA = keras.Input(\n",
        "    shape=(6,), name=\"inputA\"\n",
        ") \n",
        "x = layers.Dense(30, activation=\"relu\")(inputA)\n",
        "blockA = layers.Dense(30, activation=\"relu\")(x)\n",
        "\n",
        "\n",
        "inputB = keras.Input(shape=(5,), name=\"inputB\")\n",
        "\n",
        "conc = layers.concatenate([blockA, inputB])\n",
        "out = layers.Dense(1, name=\"output\")(conc)\n",
        "\n",
        "model2 = keras.Model(inputs=[inputA, inputB],\n",
        "    outputs=[out])"
      ],
      "metadata": {
        "id": "B9Tgcac0ft1f"
      },
      "execution_count": 29,
      "outputs": []
    },
    {
      "cell_type": "code",
      "source": [
        "keras.utils.plot_model(model2, \"mymodel.png\", show_shapes=True, show_layer_names=True)"
      ],
      "metadata": {
        "colab": {
          "base_uri": "https://localhost:8080/",
          "height": 533
        },
        "id": "DkeFpa9KifkA",
        "outputId": "58c8a343-ce1f-4703-9ca2-327b415c894e"
      },
      "execution_count": 30,
      "outputs": [
        {
          "output_type": "execute_result",
          "data": {
            "image/png": "[encoded data removed]",
            "text/plain": [
              "<IPython.core.display.Image object>"
            ]
          },
          "metadata": {},
          "execution_count": 30
        }
      ]
    },
    {
      "cell_type": "code",
      "source": [
        "model2.compile(\n",
        "    optimizer=\"adam\",\n",
        "    loss= \"mean_squared_error\", metrics = keras.metrics.RootMeanSquaredError())\n",
        "\n",
        "history = model2.fit({\"inputA\" : X_trainB, \"inputB\" : X_trainA}, y_train, batch_size = 32, epochs = 20, validation_split = 0.1)"
      ],
      "metadata": {
        "colab": {
          "base_uri": "https://localhost:8080/"
        },
        "id": "K3xmSaiPiv2W",
        "outputId": "77eac441-7650-4ac5-f642-062c01a7ace6"
      },
      "execution_count": 40,
      "outputs": [
        {
          "output_type": "stream",
          "name": "stdout",
          "text": [
            "Epoch 1/20\n",
            "436/436 [==============================] - 2s 4ms/step - loss: 1.1185 - root_mean_squared_error: 1.0576 - val_loss: 0.5519 - val_root_mean_squared_error: 0.7429\n",
            "Epoch 2/20\n",
            "436/436 [==============================] - 1s 2ms/step - loss: 0.4609 - root_mean_squared_error: 0.6789 - val_loss: 0.4591 - val_root_mean_squared_error: 0.6776\n",
            "Epoch 3/20\n",
            "436/436 [==============================] - 1s 2ms/step - loss: 0.4156 - root_mean_squared_error: 0.6447 - val_loss: 0.4372 - val_root_mean_squared_error: 0.6612\n",
            "Epoch 4/20\n",
            "436/436 [==============================] - 1s 2ms/step - loss: 0.3999 - root_mean_squared_error: 0.6324 - val_loss: 0.4187 - val_root_mean_squared_error: 0.6471\n",
            "Epoch 5/20\n",
            "436/436 [==============================] - 1s 2ms/step - loss: 0.3889 - root_mean_squared_error: 0.6236 - val_loss: 0.4106 - val_root_mean_squared_error: 0.6408\n",
            "Epoch 6/20\n",
            "436/436 [==============================] - 1s 2ms/step - loss: 0.3746 - root_mean_squared_error: 0.6121 - val_loss: 0.3943 - val_root_mean_squared_error: 0.6280\n",
            "Epoch 7/20\n",
            "436/436 [==============================] - 1s 2ms/step - loss: 0.3690 - root_mean_squared_error: 0.6075 - val_loss: 0.3848 - val_root_mean_squared_error: 0.6203\n",
            "Epoch 8/20\n",
            "436/436 [==============================] - 1s 2ms/step - loss: 0.3592 - root_mean_squared_error: 0.5993 - val_loss: 0.3835 - val_root_mean_squared_error: 0.6193\n",
            "Epoch 9/20\n",
            "436/436 [==============================] - 1s 3ms/step - loss: 0.3688 - root_mean_squared_error: 0.6073 - val_loss: 0.3815 - val_root_mean_squared_error: 0.6176\n",
            "Epoch 10/20\n",
            "436/436 [==============================] - 1s 2ms/step - loss: 0.3923 - root_mean_squared_error: 0.6264 - val_loss: 0.3726 - val_root_mean_squared_error: 0.6104\n",
            "Epoch 11/20\n",
            "436/436 [==============================] - 1s 3ms/step - loss: 0.3617 - root_mean_squared_error: 0.6014 - val_loss: 0.3670 - val_root_mean_squared_error: 0.6058\n",
            "Epoch 12/20\n",
            "436/436 [==============================] - 1s 3ms/step - loss: 0.3384 - root_mean_squared_error: 0.5817 - val_loss: 0.3645 - val_root_mean_squared_error: 0.6037\n",
            "Epoch 13/20\n",
            "436/436 [==============================] - 1s 2ms/step - loss: 0.3399 - root_mean_squared_error: 0.5830 - val_loss: 0.3614 - val_root_mean_squared_error: 0.6011\n",
            "Epoch 14/20\n",
            "436/436 [==============================] - 2s 5ms/step - loss: 0.3335 - root_mean_squared_error: 0.5775 - val_loss: 0.3574 - val_root_mean_squared_error: 0.5978\n",
            "Epoch 15/20\n",
            "436/436 [==============================] - 1s 3ms/step - loss: 0.3398 - root_mean_squared_error: 0.5830 - val_loss: 0.3583 - val_root_mean_squared_error: 0.5986\n",
            "Epoch 16/20\n",
            "436/436 [==============================] - 1s 3ms/step - loss: 0.3309 - root_mean_squared_error: 0.5752 - val_loss: 0.3525 - val_root_mean_squared_error: 0.5937\n",
            "Epoch 17/20\n",
            "436/436 [==============================] - 1s 2ms/step - loss: 0.3438 - root_mean_squared_error: 0.5863 - val_loss: 0.3685 - val_root_mean_squared_error: 0.6071\n",
            "Epoch 18/20\n",
            "436/436 [==============================] - 1s 3ms/step - loss: 0.3271 - root_mean_squared_error: 0.5720 - val_loss: 0.3514 - val_root_mean_squared_error: 0.5928\n",
            "Epoch 19/20\n",
            "436/436 [==============================] - 1s 3ms/step - loss: 0.3246 - root_mean_squared_error: 0.5697 - val_loss: 0.3498 - val_root_mean_squared_error: 0.5915\n",
            "Epoch 20/20\n",
            "436/436 [==============================] - 1s 3ms/step - loss: 0.3342 - root_mean_squared_error: 0.5781 - val_loss: 0.3886 - val_root_mean_squared_error: 0.6234\n"
          ]
        }
      ]
    },
    {
      "cell_type": "code",
      "source": [],
      "metadata": {
        "id": "mHtd_-8fi2Rd"
      },
      "execution_count": null,
      "outputs": []
    }
  ]
}